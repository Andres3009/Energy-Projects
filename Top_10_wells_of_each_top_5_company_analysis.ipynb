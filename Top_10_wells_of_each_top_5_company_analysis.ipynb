{
  "cells": [
    {
      "cell_type": "markdown",
      "metadata": {
        "id": "4uLSVsyxYRx_"
      },
      "source": [
        "In the last notebook we analyzed the oil production data from Alberta in 2024 and determined the top 5 companies. In this notebook we will evaluate the top producing wells of those companies, to evaluate if there's any undesired product"
      ]
    },
    {
      "cell_type": "code",
      "execution_count": 10,
      "metadata": {
        "colab": {
          "base_uri": "https://localhost:8080/"
        },
        "id": "bu9aX-HOZIa5",
        "outputId": "39d32265-16b9-465b-df17-cf59011dfede"
      },
      "outputs": [],
      "source": [
        "#Importing libaries\n",
        "import numpy as np\n",
        "import pandas as pd\n",
        "import seaborn as sns\n",
        "import matplotlib.pyplot as plt\n",
        "import chardet\n",
        "import xgboost as xgb\n",
        "from sklearn.model_selection import cross_val_score, GridSearchCV, KFold, RandomizedSearchCV, train_test_split\n",
        "from sklearn.metrics import auc, accuracy_score, confusion_matrix, mean_squared_error\n",
        "import requests\n",
        "import io\n",
        "import zipfile\n"
      ]
    },
    {
      "cell_type": "code",
      "execution_count": 11,
      "metadata": {
        "id": "b79uIYKUZRB9"
      },
      "outputs": [],
      "source": [
        "def download_data(url):\n",
        "  # Step 1: Download the .zip file\n",
        "  response = requests.get(url)\n",
        "  if response.status_code == 200:\n",
        "      print(\"Download successful!\")\n",
        "  else:\n",
        "      print(f\"Failed to download file. Status code: {response.status_code}\")\n",
        "\n",
        "  # Step 2: Extract the outer .zip file in memory\n",
        "  with zipfile.ZipFile(io.BytesIO(response.content)) as outer_zip:\n",
        "    # List the files in the outer .zip file\n",
        "      outer_files = outer_zip.namelist()\n",
        "      print(f\"Files in the outer zip: {outer_files}\")\n",
        "\n",
        "    # Assuming the inner .zip file is the first file\n",
        "      inner_zip_name = outer_files[0]\n",
        "\n",
        "    # Step 3: Extract the inner .zip file\n",
        "      with outer_zip.open(inner_zip_name) as inner_zip_file:\n",
        "          with zipfile.ZipFile(io.BytesIO(inner_zip_file.read())) as inner_zip:\n",
        "            # List the files in the inner .zip file\n",
        "              inner_files = inner_zip.namelist()\n",
        "              print(f\"Files in the inner zip: {inner_files}\")\n",
        "\n",
        "            # Assuming the .csv file is the first file in the inner .zip\n",
        "              csv_file_name = inner_files[0]\n",
        "\n",
        "            # Step 4: Load the .csv file into a pandas DataFrame\n",
        "              with inner_zip.open(csv_file_name) as csv_file:\n",
        "                  data = pd.read_csv(csv_file)\n",
        "\n",
        "              return data\n"
      ]
    },
    {
      "cell_type": "code",
      "execution_count": 12,
      "metadata": {
        "colab": {
          "base_uri": "https://localhost:8080/"
        },
        "id": "iF4sDTy3ZSIy",
        "outputId": "90aa56b2-c765-4009-f19e-eb513a16e02e"
      },
      "outputs": [
        {
          "name": "stdout",
          "output_type": "stream",
          "text": [
            "Download successful!\n",
            "Files in the outer zip: ['Vol_2024-01-AB.csv.zip']\n",
            "Files in the inner zip: ['Vol_2024-01-AB.CSV']\n"
          ]
        },
        {
          "name": "stderr",
          "output_type": "stream",
          "text": [
            "C:\\Users\\cepg0\\AppData\\Local\\Temp\\ipykernel_23636\\297834418.py:30: DtypeWarning: Columns (23,25) have mixed types. Specify dtype option on import or set low_memory=False.\n",
            "  data = pd.read_csv(csv_file)\n"
          ]
        },
        {
          "name": "stdout",
          "output_type": "stream",
          "text": [
            "Download successful!\n",
            "Files in the outer zip: ['Vol_2024-02-AB.csv.zip']\n",
            "Files in the inner zip: ['Vol_2024-02-AB.CSV']\n"
          ]
        },
        {
          "name": "stderr",
          "output_type": "stream",
          "text": [
            "C:\\Users\\cepg0\\AppData\\Local\\Temp\\ipykernel_23636\\297834418.py:30: DtypeWarning: Columns (23,25) have mixed types. Specify dtype option on import or set low_memory=False.\n",
            "  data = pd.read_csv(csv_file)\n"
          ]
        },
        {
          "name": "stdout",
          "output_type": "stream",
          "text": [
            "Download successful!\n",
            "Files in the outer zip: ['Vol_2024-03-AB.csv.zip']\n",
            "Files in the inner zip: ['Vol_2024-03-AB.CSV']\n"
          ]
        },
        {
          "name": "stderr",
          "output_type": "stream",
          "text": [
            "C:\\Users\\cepg0\\AppData\\Local\\Temp\\ipykernel_23636\\297834418.py:30: DtypeWarning: Columns (23,25) have mixed types. Specify dtype option on import or set low_memory=False.\n",
            "  data = pd.read_csv(csv_file)\n"
          ]
        },
        {
          "name": "stdout",
          "output_type": "stream",
          "text": [
            "Download successful!\n",
            "Files in the outer zip: ['Vol_2024-04-AB.csv.zip']\n",
            "Files in the inner zip: ['Vol_2024-04-AB.CSV']\n"
          ]
        },
        {
          "name": "stderr",
          "output_type": "stream",
          "text": [
            "C:\\Users\\cepg0\\AppData\\Local\\Temp\\ipykernel_23636\\297834418.py:30: DtypeWarning: Columns (23,25) have mixed types. Specify dtype option on import or set low_memory=False.\n",
            "  data = pd.read_csv(csv_file)\n"
          ]
        },
        {
          "name": "stdout",
          "output_type": "stream",
          "text": [
            "Download successful!\n",
            "Files in the outer zip: ['Vol_2024-05-AB.csv.zip']\n",
            "Files in the inner zip: ['Vol_2024-05-AB.CSV']\n"
          ]
        },
        {
          "name": "stderr",
          "output_type": "stream",
          "text": [
            "C:\\Users\\cepg0\\AppData\\Local\\Temp\\ipykernel_23636\\297834418.py:30: DtypeWarning: Columns (23,25) have mixed types. Specify dtype option on import or set low_memory=False.\n",
            "  data = pd.read_csv(csv_file)\n"
          ]
        },
        {
          "name": "stdout",
          "output_type": "stream",
          "text": [
            "Download successful!\n",
            "Files in the outer zip: ['Vol_2024-06-AB.csv.zip']\n",
            "Files in the inner zip: ['Vol_2024-06-AB.CSV']\n"
          ]
        },
        {
          "name": "stderr",
          "output_type": "stream",
          "text": [
            "C:\\Users\\cepg0\\AppData\\Local\\Temp\\ipykernel_23636\\297834418.py:30: DtypeWarning: Columns (23,25) have mixed types. Specify dtype option on import or set low_memory=False.\n",
            "  data = pd.read_csv(csv_file)\n"
          ]
        },
        {
          "name": "stdout",
          "output_type": "stream",
          "text": [
            "Download successful!\n",
            "Files in the outer zip: ['Vol_2024-07-AB.csv.zip']\n",
            "Files in the inner zip: ['Vol_2024-07-AB.CSV']\n"
          ]
        },
        {
          "name": "stderr",
          "output_type": "stream",
          "text": [
            "C:\\Users\\cepg0\\AppData\\Local\\Temp\\ipykernel_23636\\297834418.py:30: DtypeWarning: Columns (23,25) have mixed types. Specify dtype option on import or set low_memory=False.\n",
            "  data = pd.read_csv(csv_file)\n"
          ]
        },
        {
          "name": "stdout",
          "output_type": "stream",
          "text": [
            "Download successful!\n",
            "Files in the outer zip: ['Vol_2024-08-AB.csv.zip']\n",
            "Files in the inner zip: ['Vol_2024-08-AB.CSV']\n"
          ]
        },
        {
          "name": "stderr",
          "output_type": "stream",
          "text": [
            "C:\\Users\\cepg0\\AppData\\Local\\Temp\\ipykernel_23636\\297834418.py:30: DtypeWarning: Columns (23,25) have mixed types. Specify dtype option on import or set low_memory=False.\n",
            "  data = pd.read_csv(csv_file)\n"
          ]
        },
        {
          "name": "stdout",
          "output_type": "stream",
          "text": [
            "Download successful!\n",
            "Files in the outer zip: ['Vol_2024-09-AB.csv.zip']\n",
            "Files in the inner zip: ['Vol_2024-09-AB.CSV']\n"
          ]
        },
        {
          "name": "stderr",
          "output_type": "stream",
          "text": [
            "C:\\Users\\cepg0\\AppData\\Local\\Temp\\ipykernel_23636\\297834418.py:30: DtypeWarning: Columns (23,25) have mixed types. Specify dtype option on import or set low_memory=False.\n",
            "  data = pd.read_csv(csv_file)\n"
          ]
        },
        {
          "name": "stdout",
          "output_type": "stream",
          "text": [
            "Download successful!\n",
            "Files in the outer zip: ['Vol_2024-10-AB.csv.zip']\n",
            "Files in the inner zip: ['Vol_2024-10-AB.CSV']\n"
          ]
        },
        {
          "name": "stderr",
          "output_type": "stream",
          "text": [
            "C:\\Users\\cepg0\\AppData\\Local\\Temp\\ipykernel_23636\\297834418.py:30: DtypeWarning: Columns (23,25) have mixed types. Specify dtype option on import or set low_memory=False.\n",
            "  data = pd.read_csv(csv_file)\n"
          ]
        },
        {
          "name": "stdout",
          "output_type": "stream",
          "text": [
            "Download successful!\n",
            "Files in the outer zip: ['Vol_2024-11-AB.csv.zip']\n",
            "Files in the inner zip: ['Vol_2024-11-AB.CSV']\n"
          ]
        },
        {
          "name": "stderr",
          "output_type": "stream",
          "text": [
            "C:\\Users\\cepg0\\AppData\\Local\\Temp\\ipykernel_23636\\297834418.py:30: DtypeWarning: Columns (23,25) have mixed types. Specify dtype option on import or set low_memory=False.\n",
            "  data = pd.read_csv(csv_file)\n"
          ]
        }
      ],
      "source": [
        "# Importing data from first 4 months of 2024\n",
        "\n",
        "url_Jan = \"https://www.petrinex.gov.ab.ca/publicdata/API/Files/AB/Vol/2024-01/CSV\"\n",
        "url_Feb = \"https://www.petrinex.gov.ab.ca/publicdata/API/Files/AB/Vol/2024-02/CSV\"\n",
        "url_Mar = \"https://www.petrinex.gov.ab.ca/publicdata/API/Files/AB/Vol/2024-03/CSV\"\n",
        "url_Apr = \"https://www.petrinex.gov.ab.ca/publicdata/API/Files/AB/Vol/2024-04/CSV\"\n",
        "url_May = \"https://www.petrinex.gov.ab.ca/publicdata/API/Files/AB/Vol/2024-05/CSV\"\n",
        "url_Jun = \"https://www.petrinex.gov.ab.ca/publicdata/API/Files/AB/Vol/2024-06/CSV\"\n",
        "url_Jul = \"https://www.petrinex.gov.ab.ca/publicdata/API/Files/AB/Vol/2024-07/CSV\"\n",
        "url_Aug = \"https://www.petrinex.gov.ab.ca/publicdata/API/Files/AB/Vol/2024-08/CSV\"\n",
        "url_Sep = \"https://www.petrinex.gov.ab.ca/publicdata/API/Files/AB/Vol/2024-09/CSV\"\n",
        "url_Oct = \"https://www.petrinex.gov.ab.ca/publicdata/API/Files/AB/Vol/2024-10/CSV\"\n",
        "url_Nov = \"https://www.petrinex.gov.ab.ca/publicdata/API/Files/AB/Vol/2024-11/CSV\"\n",
        "url_Dec = \"https://www.petrinex.gov.ab.ca/publicdata/API/Files/AB/Vol/2024-12/CSV\"\n",
        "\n",
        "\n",
        "data_Jan=download_data(url_Jan)\n",
        "data_Feb=download_data(url_Feb)\n",
        "data_Mar=download_data(url_Mar)\n",
        "data_Apr=download_data(url_Apr)\n",
        "data_May=download_data(url_May)\n",
        "data_Jun=download_data(url_Jun)\n",
        "data_Jul=download_data(url_Jul)\n",
        "data_Aug=download_data(url_Aug)\n",
        "data_Sep=download_data(url_Sep)\n",
        "data_Oct=download_data(url_Oct)\n",
        "data_Nov=download_data(url_Nov)\n",
        "#data_Dec=download_data(url_Dec)"
      ]
    },
    {
      "cell_type": "code",
      "execution_count": 13,
      "metadata": {
        "colab": {
          "base_uri": "https://localhost:8080/"
        },
        "id": "1SQT8bPSaMdE",
        "outputId": "708c1587-b534-4542-b57b-0ee5dfd18a25"
      },
      "outputs": [
        {
          "name": "stdout",
          "output_type": "stream",
          "text": [
            "<class 'pandas.core.frame.DataFrame'>\n",
            "RangeIndex: 6087613 entries, 0 to 6087612\n",
            "Data columns (total 30 columns):\n",
            " #   Column                          Dtype  \n",
            "---  ------                          -----  \n",
            " 0   ProductionMonth                 object \n",
            " 1   OperatorBAID                    object \n",
            " 2   OperatorName                    object \n",
            " 3   ReportingFacilityID             object \n",
            " 4   ReportingFacilityProvinceState  object \n",
            " 5   ReportingFacilityType           object \n",
            " 6   ReportingFacilityIdentifier     int64  \n",
            " 7   ReportingFacilityName           object \n",
            " 8   ReportingFacilitySubType        int64  \n",
            " 9   ReportingFacilitySubTypeDesc    object \n",
            " 10  ReportingFacilityLocation       object \n",
            " 11  FacilityLegalSubdivision        int64  \n",
            " 12  FacilitySection                 int64  \n",
            " 13  FacilityTownship                int64  \n",
            " 14  FacilityRange                   int64  \n",
            " 15  FacilityMeridian                int64  \n",
            " 16  SubmissionDate                  object \n",
            " 17  ActivityID                      object \n",
            " 18  ProductID                       object \n",
            " 19  FromToID                        object \n",
            " 20  FromToIDProvinceState           object \n",
            " 21  FromToIDType                    object \n",
            " 22  FromToIDIdentifier              object \n",
            " 23  Volume                          object \n",
            " 24  Energy                          float64\n",
            " 25  Hours                           object \n",
            " 26  CCICode                         object \n",
            " 27  ProrationProduct                object \n",
            " 28  ProrationFactor                 float64\n",
            " 29  Heat                            float64\n",
            "dtypes: float64(3), int64(7), object(20)\n",
            "memory usage: 1.4+ GB\n",
            "None\n"
          ]
        }
      ],
      "source": [
        "combined_ALL_df=pd.concat([data_Jan, data_Feb,data_Mar,data_Apr,data_May,data_Jun,data_Jul,data_Aug,data_Sep,data_Oct,data_Nov], ignore_index=True)\n",
        "print(combined_ALL_df.info())\n"
      ]
    },
    {
      "cell_type": "markdown",
      "metadata": {
        "id": "VV3gT_7la2Co"
      },
      "source": [
        "Let's start with Cenovus, which was the top 1 company"
      ]
    },
    {
      "cell_type": "code",
      "execution_count": 15,
      "metadata": {
        "colab": {
          "base_uri": "https://localhost:8080/"
        },
        "id": "pkYn1HIUaSa3",
        "outputId": "8679bad0-178b-4c13-ac9b-dd2e26454dde"
      },
      "outputs": [
        {
          "name": "stdout",
          "output_type": "stream",
          "text": [
            "<class 'pandas.core.frame.DataFrame'>\n",
            "Index: 254520 entries, 331356 to 5869717\n",
            "Data columns (total 28 columns):\n",
            " #   Column                          Non-Null Count   Dtype  \n",
            "---  ------                          --------------   -----  \n",
            " 0   ProductionMonth                 254520 non-null  object \n",
            " 1   OperatorBAID                    254520 non-null  object \n",
            " 2   ReportingFacilityID             254520 non-null  object \n",
            " 3   ReportingFacilityProvinceState  254520 non-null  object \n",
            " 4   ReportingFacilityType           254520 non-null  object \n",
            " 5   ReportingFacilityIdentifier     254520 non-null  int64  \n",
            " 6   ReportingFacilityName           254520 non-null  object \n",
            " 7   ReportingFacilitySubType        254520 non-null  int64  \n",
            " 8   ReportingFacilitySubTypeDesc    254520 non-null  object \n",
            " 9   ReportingFacilityLocation       254520 non-null  object \n",
            " 10  FacilityLegalSubdivision        254520 non-null  int64  \n",
            " 11  FacilitySection                 254520 non-null  int64  \n",
            " 12  FacilityTownship                254520 non-null  int64  \n",
            " 13  FacilityRange                   254520 non-null  int64  \n",
            " 14  FacilityMeridian                254520 non-null  int64  \n",
            " 15  SubmissionDate                  254520 non-null  object \n",
            " 16  ActivityID                      253042 non-null  object \n",
            " 17  ProductID                       237234 non-null  object \n",
            " 18  FromToID                        220872 non-null  object \n",
            " 19  FromToIDProvinceState           210921 non-null  object \n",
            " 20  FromToIDType                    210921 non-null  object \n",
            " 21  FromToIDIdentifier              220185 non-null  object \n",
            " 22  Volume                          237234 non-null  object \n",
            " 23  Energy                          10388 non-null   float64\n",
            " 24  Hours                           53229 non-null   object \n",
            " 25  CCICode                         243091 non-null  object \n",
            " 26  ProrationProduct                1478 non-null    object \n",
            " 27  ProrationFactor                 1478 non-null    float64\n",
            "dtypes: float64(2), int64(7), object(19)\n",
            "memory usage: 56.3+ MB\n",
            "None\n"
          ]
        }
      ],
      "source": [
        "Cenovus_all_df=combined_ALL_df[(combined_ALL_df['OperatorName']=='CENOVUS ENERGY INC.')]\n",
        "Cenovus_all_df=Cenovus_all_df.dropna(axis=1,how='all')\n",
        "Cenovus_all_df=Cenovus_all_df.drop('OperatorName',axis=1)\n",
        "print(Cenovus_all_df.info())\n",
        "\n",
        "Cenovus_all_df['ProductionMonth']=pd.to_datetime(Cenovus_all_df['ProductionMonth'])\n",
        "Cenovus_all_df['SubmissionDate']=pd.to_datetime(Cenovus_all_df['SubmissionDate'])\n",
        "\n"
      ]
    },
    {
      "cell_type": "code",
      "execution_count": 16,
      "metadata": {
        "colab": {
          "base_uri": "https://localhost:8080/"
        },
        "id": "IWW_0WiEaV8C",
        "outputId": "ad685b5c-c9e1-4381-8275-0d8d6240c3e6"
      },
      "outputs": [
        {
          "name": "stdout",
          "output_type": "stream",
          "text": [
            "count    2.372340e+05\n",
            "mean     1.054438e+04\n",
            "std      1.921735e+05\n",
            "min     -3.314730e+05\n",
            "25%      5.031848e+00\n",
            "50%      1.069268e+02\n",
            "75%      9.308919e+02\n",
            "max      1.782520e+07\n",
            "Name: Volume, dtype: float64\n",
            "<class 'pandas.core.frame.DataFrame'>\n",
            "Index: 237234 entries, 331356 to 5869717\n",
            "Data columns (total 28 columns):\n",
            " #   Column                          Non-Null Count   Dtype         \n",
            "---  ------                          --------------   -----         \n",
            " 0   ProductionMonth                 237234 non-null  datetime64[ns]\n",
            " 1   OperatorBAID                    237234 non-null  object        \n",
            " 2   ReportingFacilityID             237234 non-null  object        \n",
            " 3   ReportingFacilityProvinceState  237234 non-null  object        \n",
            " 4   ReportingFacilityType           237234 non-null  object        \n",
            " 5   ReportingFacilityIdentifier     237234 non-null  int64         \n",
            " 6   ReportingFacilityName           237234 non-null  object        \n",
            " 7   ReportingFacilitySubType        237234 non-null  int64         \n",
            " 8   ReportingFacilitySubTypeDesc    237234 non-null  object        \n",
            " 9   ReportingFacilityLocation       237234 non-null  object        \n",
            " 10  FacilityLegalSubdivision        237234 non-null  int64         \n",
            " 11  FacilitySection                 237234 non-null  int64         \n",
            " 12  FacilityTownship                237234 non-null  int64         \n",
            " 13  FacilityRange                   237234 non-null  int64         \n",
            " 14  FacilityMeridian                237234 non-null  int64         \n",
            " 15  SubmissionDate                  237234 non-null  datetime64[ns]\n",
            " 16  ActivityID                      237234 non-null  object        \n",
            " 17  ProductID                       237234 non-null  object        \n",
            " 18  FromToID                        206927 non-null  object        \n",
            " 19  FromToIDProvinceState           196976 non-null  object        \n",
            " 20  FromToIDType                    196976 non-null  object        \n",
            " 21  FromToIDIdentifier              206240 non-null  object        \n",
            " 22  Volume                          237234 non-null  float64       \n",
            " 23  Energy                          10388 non-null   float64       \n",
            " 24  Hours                           53213 non-null   object        \n",
            " 25  CCICode                         227283 non-null  object        \n",
            " 26  ProrationProduct                0 non-null       object        \n",
            " 27  ProrationFactor                 0 non-null       float64       \n",
            "dtypes: datetime64[ns](2), float64(3), int64(7), object(16)\n",
            "memory usage: 52.5+ MB\n",
            "None\n"
          ]
        }
      ],
      "source": [
        "Cenovus_all_df = Cenovus_all_df.dropna(subset=['Volume'])\n",
        "Cenovus_all_df['Volume'] = pd.to_numeric(Cenovus_all_df['Volume'], errors='coerce')\n",
        "Cenovus_all_df['Volume']=Cenovus_all_df['Volume'].astype(float)\n",
        "Cenovus_all_df['Volume']=Cenovus_all_df['Volume']*6.28981\n",
        "print(Cenovus_all_df['Volume'].describe())\n",
        "print(Cenovus_all_df.info())\n",
        "#removing negative values\n",
        "Cenovus_all_df = Cenovus_all_df[Cenovus_all_df['Volume'] >= 0]"
      ]
    },
    {
      "cell_type": "code",
      "execution_count": 17,
      "metadata": {
        "colab": {
          "base_uri": "https://localhost:8080/"
        },
        "id": "1fl6QIoca95L",
        "outputId": "70097ea9-4b7b-46d9-c0e7-237fa1bb4ad0"
      },
      "outputs": [
        {
          "name": "stdout",
          "output_type": "stream",
          "text": [
            "FromToID\n",
            "ABWI108121207006W400    1.216893e+06\n",
            "ABWI106131207006W400    1.073683e+06\n",
            "ABWI107131207006W402    1.029405e+06\n",
            "ABWI108131207006W400    9.790655e+05\n",
            "ABWI135150207606W400    8.982585e+05\n",
            "ABWI102042107005W400    8.486306e+05\n",
            "ABWI104052107005W400    8.149984e+05\n",
            "ABWI107032107005W400    8.115729e+05\n",
            "ABWI1W0043307004W400    8.092721e+05\n",
            "ABWI1W2043307004W400    8.052240e+05\n",
            "Name: Volume, dtype: float64\n"
          ]
        }
      ],
      "source": [
        "top_10_Cenovus = Cenovus_all_df[(Cenovus_all_df['ProductID']=='OIL')&(Cenovus_all_df['ActivityID']=='PROD')]\n",
        "top_10_Cenovus = top_10_Cenovus.groupby(['FromToID'])['Volume'].sum()\n",
        "top_10_Cenovus = top_10_Cenovus.sort_values(ascending=False)\n",
        "top_10_Cenovus = top_10_Cenovus.head(10)\n",
        "print(top_10_Cenovus)"
      ]
    },
    {
      "cell_type": "markdown",
      "metadata": {
        "id": "iBZB10HxdV7B"
      },
      "source": [
        "We have now the top 10 wells for Cenovus identified. Let's now evaluate their biproducts and activity"
      ]
    },
    {
      "cell_type": "code",
      "execution_count": 18,
      "metadata": {
        "colab": {
          "base_uri": "https://localhost:8080/",
          "height": 1000
        },
        "id": "RF-Gt7xGbAgF",
        "outputId": "ba9483a3-760f-4b96-fa98-273bf43ba203"
      },
      "outputs": [
        {
          "name": "stdout",
          "output_type": "stream",
          "text": [
            "<class 'pandas.core.frame.DataFrame'>\n",
            "Index: 43 entries, 334129 to 5849013\n",
            "Data columns (total 28 columns):\n",
            " #   Column                          Non-Null Count  Dtype         \n",
            "---  ------                          --------------  -----         \n",
            " 0   ProductionMonth                 43 non-null     datetime64[ns]\n",
            " 1   OperatorBAID                    43 non-null     object        \n",
            " 2   ReportingFacilityID             43 non-null     object        \n",
            " 3   ReportingFacilityProvinceState  43 non-null     object        \n",
            " 4   ReportingFacilityType           43 non-null     object        \n",
            " 5   ReportingFacilityIdentifier     43 non-null     int64         \n",
            " 6   ReportingFacilityName           43 non-null     object        \n",
            " 7   ReportingFacilitySubType        43 non-null     int64         \n",
            " 8   ReportingFacilitySubTypeDesc    43 non-null     object        \n",
            " 9   ReportingFacilityLocation       43 non-null     object        \n",
            " 10  FacilityLegalSubdivision        43 non-null     int64         \n",
            " 11  FacilitySection                 43 non-null     int64         \n",
            " 12  FacilityTownship                43 non-null     int64         \n",
            " 13  FacilityRange                   43 non-null     int64         \n",
            " 14  FacilityMeridian                43 non-null     int64         \n",
            " 15  SubmissionDate                  43 non-null     datetime64[ns]\n",
            " 16  ActivityID                      43 non-null     object        \n",
            " 17  ProductID                       43 non-null     object        \n",
            " 18  FromToID                        43 non-null     object        \n",
            " 19  FromToIDProvinceState           43 non-null     object        \n",
            " 20  FromToIDType                    43 non-null     object        \n",
            " 21  FromToIDIdentifier              43 non-null     object        \n",
            " 22  Volume                          43 non-null     float64       \n",
            " 23  Energy                          0 non-null      float64       \n",
            " 24  Hours                           11 non-null     object        \n",
            " 25  CCICode                         43 non-null     object        \n",
            " 26  ProrationProduct                0 non-null      object        \n",
            " 27  ProrationFactor                 0 non-null      float64       \n",
            "dtypes: datetime64[ns](2), float64(3), int64(7), object(16)\n",
            "memory usage: 9.7+ KB\n",
            "None\n"
          ]
        },
        {
          "data": {
            "image/png": "[encoded data removed]",
            "text/plain": [
              "<Figure size 640x480 with 1 Axes>"
            ]
          },
          "metadata": {},
          "output_type": "display_data"
        },
        {
          "data": {
            "image/png": "[encoded data removed]",
            "text/plain": [
              "<Figure size 640x480 with 1 Axes>"
            ]
          },
          "metadata": {},
          "output_type": "display_data"
        }
      ],
      "source": [
        "Cenovus_top1=Cenovus_all_df[Cenovus_all_df['FromToID']=='ABWI108121207006W400']\n",
        "print(Cenovus_top1.info())\n",
        "sns.scatterplot(data=Cenovus_top1,x='ProductionMonth',y='Volume',hue='ProductID')\n",
        "plt.xticks(rotation=90,fontsize=8)\n",
        "plt.ylabel('Total Volume (bbl)')\n",
        "plt.xlabel('Production Date')\n",
        "plt.show()\n",
        "\n",
        "sns.scatterplot(data=Cenovus_top1,x='ProductionMonth',y='Volume',hue='ActivityID')\n",
        "plt.xticks(rotation=90,fontsize=8)\n",
        "plt.ylabel('Total Volume (bbl)')\n",
        "plt.xlabel('Production Date')\n",
        "plt.show()"
      ]
    },
    {
      "cell_type": "markdown",
      "metadata": {
        "id": "PdCjNC06dotG"
      },
      "source": [
        "Looks like there was only Water, Oil and Gas as products from Cenovus Top well. The gas amount can be neglebible, however the amount of water is concerning, since it's an undesired product.\n",
        "\n",
        "On the other hand, there's 2 other items, which are LOAD FLUID INJECTED (LDINJ) and LOAD FLUID RECOVERED (LDREC). Let's analyze the amount of load fluid recovery ratio and the oil/water ratio for these top 10 wells"
      ]
    },
    {
      "cell_type": "code",
      "execution_count": 19,
      "metadata": {
        "colab": {
          "base_uri": "https://localhost:8080/"
        },
        "id": "XG3KPb3bdoJk",
        "outputId": "b0634529-0348-455e-e6c8-eef3d77228e5"
      },
      "outputs": [
        {
          "name": "stdout",
          "output_type": "stream",
          "text": [
            "62.15509616723088\n",
            "   ProductionMonth     Volume_oil   Volume_water  Water_Cut (%)\n",
            "0       2024-01-01  100202.334129  224458.159660      69.136271\n",
            "1       2024-02-01   86503.756930  151310.185284      63.625448\n",
            "2       2024-03-01  109117.510823  191341.052048      63.683008\n",
            "3       2024-04-01  114656.317509  200897.160381      63.665012\n",
            "4       2024-05-01  125005.570883  203935.767592      61.997610\n",
            "5       2024-06-01  150579.309362  198813.975309      56.902632\n",
            "6       2024-07-01  120459.925196  177596.559236      59.584867\n",
            "7       2024-08-01  120759.320152  179064.600890      59.723254\n",
            "8       2024-09-01   95086.202675  154836.881751      61.953814\n",
            "9       2024-10-01  104182.525897  159486.938284      60.487451\n",
            "10      2024-11-01   90339.912049  153470.735019      62.946691\n"
          ]
        }
      ],
      "source": [
        "Cenovus_top1_water=Cenovus_top1[(Cenovus_top1['ProductID']=='WATER')]\n",
        "Cenovus_top1_water=Cenovus_top1_water.groupby(['ProductionMonth'],as_index=True).agg({\n",
        "    'Volume': 'sum'\n",
        "}).reset_index()\n",
        "Cenovus_top1_oil=Cenovus_top1[(Cenovus_top1['ProductID']=='OIL')]\n",
        "Cenovus_top1_oil=Cenovus_top1_oil.groupby(['ProductionMonth'],as_index=True).agg({\n",
        "    'Volume': 'sum'\n",
        "}).reset_index()\n",
        "Cenovus_watercut_1 = pd.merge(Cenovus_top1_oil, Cenovus_top1_water, on='ProductionMonth', suffixes=('_oil', '_water'))\n",
        "Cenovus_watercut_1['Water_Cut (%)'] = (Cenovus_watercut_1['Volume_water'] /\n",
        "                               (Cenovus_watercut_1['Volume_oil'] + Cenovus_watercut_1['Volume_water'])) * 100\n",
        "avg_1_WC = Cenovus_watercut_1['Water_Cut (%)'].mean()\n",
        "print(avg_1_WC)\n",
        "print(Cenovus_watercut_1)"
      ]
    },
    {
      "cell_type": "code",
      "execution_count": 20,
      "metadata": {
        "colab": {
          "base_uri": "https://localhost:8080/"
        },
        "id": "OHgAn_GVeDUU",
        "outputId": "abb426f9-c7a1-4a7a-c107-62b297a9da79"
      },
      "outputs": [
        {
          "name": "stdout",
          "output_type": "stream",
          "text": [
            "<class 'pandas.core.frame.DataFrame'>\n",
            "RangeIndex: 5 entries, 0 to 4\n",
            "Data columns (total 3 columns):\n",
            " #   Column           Non-Null Count  Dtype         \n",
            "---  ------           --------------  -----         \n",
            " 0   ProductionMonth  5 non-null      datetime64[ns]\n",
            " 1   Volume_INJ       5 non-null      float64       \n",
            " 2   Volume_REC       5 non-null      float64       \n",
            "dtypes: datetime64[ns](1), float64(2)\n",
            "memory usage: 252.0 bytes\n",
            "None\n",
            "  ProductionMonth   Volume_INJ   Volume_REC  LD recovery (%)\n",
            "0      2024-01-01   987.500170   987.500170            100.0\n",
            "1      2024-02-01  1025.239030  1025.239030            100.0\n",
            "2      2024-03-01   657.285145   657.285145            100.0\n",
            "3      2024-06-01  1874.363380  1874.363380            100.0\n",
            "4      2024-08-01   201.273920   201.273920            100.0\n"
          ]
        }
      ],
      "source": [
        "Cenovus_top1_LDINJ=Cenovus_top1[(Cenovus_top1['ActivityID']=='LDINJ')]\n",
        "Cenovus_top1_LDINJ=Cenovus_top1_LDINJ.groupby(['ProductionMonth'],as_index=True).agg({\n",
        "    'Volume': 'sum'\n",
        "}).reset_index()\n",
        "Cenovus_top1_LDREC=Cenovus_top1[(Cenovus_top1['ActivityID']=='LDREC')]\n",
        "Cenovus_top1_LDREC=Cenovus_top1_LDREC.groupby(['ProductionMonth'],as_index=True).agg({\n",
        "    'Volume': 'sum'\n",
        "}).reset_index()\n",
        "Cenovus_LD = pd.merge(Cenovus_top1_LDINJ, Cenovus_top1_LDREC, on='ProductionMonth', suffixes=('_INJ', '_REC'))\n",
        "print(Cenovus_LD.info())\n",
        "Cenovus_LD['LD recovery (%)'] = (Cenovus_LD['Volume_REC'] /\n",
        "                               (Cenovus_LD['Volume_INJ'] )) * 100\n",
        "\n",
        "print(Cenovus_LD)"
      ]
    },
    {
      "cell_type": "markdown",
      "metadata": {
        "id": "qo4aDQRheHpS"
      },
      "source": [
        "The Load fluid recovery rate was 100% every time for that well, which is a good sign for well mantainence.\n",
        "\n",
        "As for the water cut % value, it seemed a little high for this well. let's do the same estimate for the rest of the top 10 wells and get a total"
      ]
    },
    {
      "cell_type": "code",
      "execution_count": 21,
      "metadata": {
        "id": "d2hLoyrQeIOS"
      },
      "outputs": [],
      "source": [
        "def well_prods_act(DF,wellID):\n",
        "  topX=DF[DF['FromToID']==wellID]\n",
        "  print(topX['ActivityID'].unique())\n",
        "  print(topX['ProductID'].unique())"
      ]
    },
    {
      "cell_type": "code",
      "execution_count": 22,
      "metadata": {
        "id": "XSk_6LkHgmC5"
      },
      "outputs": [],
      "source": [
        "def Water_cut(DF,wellID):\n",
        "  topX=DF[DF['FromToID']==wellID]\n",
        "  topX_water=topX[(topX['ProductID']=='WATER')]\n",
        "  topX_water=topX_water.groupby(['ProductionMonth'],as_index=True).agg({\n",
        "      'Volume': 'sum'\n",
        "  }).reset_index()\n",
        "  topX_oil=topX[(topX['ProductID']=='OIL')]\n",
        "  topX_oil=topX_oil.groupby(['ProductionMonth'],as_index=True).agg({\n",
        "      'Volume': 'sum'\n",
        "  }).reset_index()\n",
        "  Watercut = pd.merge(topX_oil, topX_water, on='ProductionMonth', suffixes=('_oil', '_water'))\n",
        "  Watercut['Water_Cut (%)'] = (Watercut['Volume_water'] /\n",
        "                               (Watercut['Volume_oil'] + Watercut['Volume_water'])) * 100\n",
        "  avg_WC = Watercut['Water_Cut (%)'].mean()\n",
        "  Watercut['wellID']=wellID\n",
        "  Watercut=Watercut.drop(['Volume_water','Volume_oil'],axis=1)\n",
        "\n",
        "  return (Watercut,avg_WC)"
      ]
    },
    {
      "cell_type": "code",
      "execution_count": 23,
      "metadata": {
        "id": "LsMZ89aceOUa"
      },
      "outputs": [],
      "source": [
        "def Load_Fluid(DF,wellID):\n",
        "  topX=DF[DF['FromToID']==wellID]\n",
        "  topX_LDINJ=topX[(topX['ActivityID']=='LDINJ')]\n",
        "  topX_LDINJ=topX_LDINJ.groupby(['ProductionMonth'],as_index=True).agg({\n",
        "     'Volume': 'sum'\n",
        "  }).reset_index()\n",
        "  topX_LDREC=topX[(topX['ActivityID']=='LDREC')]\n",
        "  topX_LDREC=topX_LDREC.groupby(['ProductionMonth'],as_index=True).agg({\n",
        "      'Volume': 'sum'\n",
        "  }).reset_index()\n",
        "  LD = pd.merge(topX_LDINJ, topX_LDREC, on='ProductionMonth', suffixes=('_INJ', '_REC'))\n",
        "  LD['LD recovery (%)'] = (LD['Volume_REC'] /\n",
        "                               (LD['Volume_INJ'] )) * 100\n",
        "  avg_LD = LD['LD recovery (%)'].mean()\n",
        "  return (LD,avg_LD)"
      ]
    },
    {
      "cell_type": "code",
      "execution_count": 24,
      "metadata": {
        "colab": {
          "base_uri": "https://localhost:8080/"
        },
        "id": "UuYhpS9aeOm5",
        "outputId": "f0071ea6-da03-49bf-b8ef-f444eb7ce658"
      },
      "outputs": [
        {
          "name": "stdout",
          "output_type": "stream",
          "text": [
            "['PROD' 'LDINJ' 'LDREC']\n",
            "['GAS' 'OIL' 'WATER']\n",
            "['PROD' 'LDINJ' 'LDREC']\n",
            "['GAS' 'OIL' 'WATER']\n",
            "['PROD']\n",
            "['GAS' 'OIL' 'WATER']\n",
            "['PROD' 'LDINJ' 'LDREC']\n",
            "['GAS' 'OIL' 'WATER']\n",
            "['PROD']\n",
            "['GAS' 'OIL' 'WATER']\n",
            "['PROD' 'LDINJ' 'LDREC']\n",
            "['GAS' 'OIL' 'WATER']\n",
            "['PROD' 'LDINJ' 'LDREC']\n",
            "['GAS' 'OIL' 'WATER']\n",
            "['PROD']\n",
            "['GAS' 'OIL' 'WATER']\n",
            "['PROD' 'LDINJ' 'LDREC']\n",
            "['GAS' 'OIL' 'WATER']\n",
            "['PROD' 'LDINJ' 'LDREC']\n",
            "['GAS' 'OIL' 'WATER']\n"
          ]
        }
      ],
      "source": [
        "for well in top_10_Cenovus.index:\n",
        "  well_prods_act(Cenovus_all_df,well)"
      ]
    },
    {
      "cell_type": "code",
      "execution_count": 25,
      "metadata": {
        "colab": {
          "base_uri": "https://localhost:8080/"
        },
        "id": "stBx8CTyegUO",
        "outputId": "654357d3-97e6-455d-b749-b09a63a23447"
      },
      "outputs": [
        {
          "name": "stdout",
          "output_type": "stream",
          "text": [
            "[62.15509616723088, 69.30334983599077, 60.41954633510449, 68.69803805636387, 65.93497864791856, 67.77154467517671, 69.75889474307756, 66.12177113692837, 69.3416159512616, 68.40707386571981]\n"
          ]
        }
      ],
      "source": [
        "Cenovovus_watercut=[]\n",
        "for well in top_10_Cenovus.index:\n",
        "  Cenovovus_watercut.append(Water_cut(Cenovus_all_df,well)[1])\n",
        "\n",
        "print(Cenovovus_watercut)"
      ]
    },
    {
      "cell_type": "code",
      "execution_count": 26,
      "metadata": {
        "colab": {
          "base_uri": "https://localhost:8080/"
        },
        "id": "p3mqLghqeiVc",
        "outputId": "b2278598-8f40-4fbb-8ab9-d096829ee67d"
      },
      "outputs": [
        {
          "name": "stdout",
          "output_type": "stream",
          "text": [
            "[100.0, 100.0, nan, 100.0, nan, 100.0, 100.0, nan, 100.0, 100.0]\n"
          ]
        }
      ],
      "source": [
        "Cenovovus_LD=[]\n",
        "for well in top_10_Cenovus.index:\n",
        "  Cenovovus_LD.append(Load_Fluid(Cenovus_all_df,well)[1])\n",
        "\n",
        "print(Cenovovus_LD)"
      ]
    },
    {
      "cell_type": "markdown",
      "metadata": {
        "id": "lLFw7HNAemhD"
      },
      "source": [
        "Overall it seems like the water cut content is over 65%. This is a very high value, which translates into a high cost of treatment upstream.\n",
        "\n",
        "In terms of load fluid recovery, it seems to be 100% except when there isn't any.\n",
        "\n",
        "As per the previous discovery, it's worth to do the comparison for the other top 5 companies"
      ]
    },
    {
      "cell_type": "code",
      "execution_count": 29,
      "metadata": {
        "colab": {
          "base_uri": "https://localhost:8080/"
        },
        "id": "j2YxvNL8ep-3",
        "outputId": "cb3edcb3-fccb-43f0-fa27-1cdfac87180a"
      },
      "outputs": [
        {
          "ename": "MemoryError",
          "evalue": "Unable to allocate 48.9 MiB for an array with shape (6, 1068843) and data type object",
          "output_type": "error",
          "traceback": [
            "\u001b[1;31m---------------------------------------------------------------------------\u001b[0m",
            "\u001b[1;31mMemoryError\u001b[0m                               Traceback (most recent call last)",
            "Cell \u001b[1;32mIn[29], line 2\u001b[0m\n\u001b[0;32m      1\u001b[0m \u001b[38;5;66;03m#Grab only CNRL wells\u001b[39;00m\n\u001b[1;32m----> 2\u001b[0m CNRL_all_df\u001b[38;5;241m=\u001b[39m\u001b[43mcombined_ALL_df\u001b[49m\u001b[43m[\u001b[49m\u001b[43m(\u001b[49m\u001b[43mcombined_ALL_df\u001b[49m\u001b[43m[\u001b[49m\u001b[38;5;124;43m'\u001b[39;49m\u001b[38;5;124;43mOperatorName\u001b[39;49m\u001b[38;5;124;43m'\u001b[39;49m\u001b[43m]\u001b[49m\u001b[38;5;241;43m==\u001b[39;49m\u001b[38;5;124;43m'\u001b[39;49m\u001b[38;5;124;43mCANADIAN NATURAL RESOURCES LIMITED.\u001b[39;49m\u001b[38;5;124;43m'\u001b[39;49m\u001b[43m)\u001b[49m\u001b[43m]\u001b[49m\n\u001b[0;32m      3\u001b[0m \u001b[38;5;66;03m#CNRL_all_df=CNRL_all_df.dropna(axis=1,how='all')\u001b[39;00m\n\u001b[0;32m      4\u001b[0m CNRL_all_df\u001b[38;5;241m=\u001b[39mCNRL_all_df\u001b[38;5;241m.\u001b[39mdrop(\u001b[38;5;124m'\u001b[39m\u001b[38;5;124mOperatorName\u001b[39m\u001b[38;5;124m'\u001b[39m,axis\u001b[38;5;241m=\u001b[39m\u001b[38;5;241m1\u001b[39m)\n",
            "File \u001b[1;32m~\\AppData\\Local\\Packages\\PythonSoftwareFoundation.Python.3.11_qbz5n2kfra8p0\\LocalCache\\local-packages\\Python311\\site-packages\\pandas\\core\\frame.py:4081\u001b[0m, in \u001b[0;36mDataFrame.__getitem__\u001b[1;34m(self, key)\u001b[0m\n\u001b[0;32m   4079\u001b[0m \u001b[38;5;66;03m# Do we have a (boolean) 1d indexer?\u001b[39;00m\n\u001b[0;32m   4080\u001b[0m \u001b[38;5;28;01mif\u001b[39;00m com\u001b[38;5;241m.\u001b[39mis_bool_indexer(key):\n\u001b[1;32m-> 4081\u001b[0m     \u001b[38;5;28;01mreturn\u001b[39;00m \u001b[38;5;28;43mself\u001b[39;49m\u001b[38;5;241;43m.\u001b[39;49m\u001b[43m_getitem_bool_array\u001b[49m\u001b[43m(\u001b[49m\u001b[43mkey\u001b[49m\u001b[43m)\u001b[49m\n\u001b[0;32m   4083\u001b[0m \u001b[38;5;66;03m# We are left with two options: a single key, and a collection of keys,\u001b[39;00m\n\u001b[0;32m   4084\u001b[0m \u001b[38;5;66;03m# We interpret tuples as collections only for non-MultiIndex\u001b[39;00m\n\u001b[0;32m   4085\u001b[0m is_single_key \u001b[38;5;241m=\u001b[39m \u001b[38;5;28misinstance\u001b[39m(key, \u001b[38;5;28mtuple\u001b[39m) \u001b[38;5;129;01mor\u001b[39;00m \u001b[38;5;129;01mnot\u001b[39;00m is_list_like(key)\n",
            "File \u001b[1;32m~\\AppData\\Local\\Packages\\PythonSoftwareFoundation.Python.3.11_qbz5n2kfra8p0\\LocalCache\\local-packages\\Python311\\site-packages\\pandas\\core\\frame.py:4143\u001b[0m, in \u001b[0;36mDataFrame._getitem_bool_array\u001b[1;34m(self, key)\u001b[0m\n\u001b[0;32m   4140\u001b[0m     \u001b[38;5;28;01mreturn\u001b[39;00m \u001b[38;5;28mself\u001b[39m\u001b[38;5;241m.\u001b[39mcopy(deep\u001b[38;5;241m=\u001b[39m\u001b[38;5;28;01mNone\u001b[39;00m)\n\u001b[0;32m   4142\u001b[0m indexer \u001b[38;5;241m=\u001b[39m key\u001b[38;5;241m.\u001b[39mnonzero()[\u001b[38;5;241m0\u001b[39m]\n\u001b[1;32m-> 4143\u001b[0m \u001b[38;5;28;01mreturn\u001b[39;00m \u001b[38;5;28;43mself\u001b[39;49m\u001b[38;5;241;43m.\u001b[39;49m\u001b[43m_take_with_is_copy\u001b[49m\u001b[43m(\u001b[49m\u001b[43mindexer\u001b[49m\u001b[43m,\u001b[49m\u001b[43m \u001b[49m\u001b[43maxis\u001b[49m\u001b[38;5;241;43m=\u001b[39;49m\u001b[38;5;241;43m0\u001b[39;49m\u001b[43m)\u001b[49m\n",
            "File \u001b[1;32m~\\AppData\\Local\\Packages\\PythonSoftwareFoundation.Python.3.11_qbz5n2kfra8p0\\LocalCache\\local-packages\\Python311\\site-packages\\pandas\\core\\generic.py:4150\u001b[0m, in \u001b[0;36mNDFrame._take_with_is_copy\u001b[1;34m(self, indices, axis)\u001b[0m\n\u001b[0;32m   4139\u001b[0m \u001b[38;5;129m@final\u001b[39m\n\u001b[0;32m   4140\u001b[0m \u001b[38;5;28;01mdef\u001b[39;00m\u001b[38;5;250m \u001b[39m\u001b[38;5;21m_take_with_is_copy\u001b[39m(\u001b[38;5;28mself\u001b[39m, indices, axis: Axis \u001b[38;5;241m=\u001b[39m \u001b[38;5;241m0\u001b[39m) \u001b[38;5;241m-\u001b[39m\u001b[38;5;241m>\u001b[39m Self:\n\u001b[0;32m   4141\u001b[0m \u001b[38;5;250m    \u001b[39m\u001b[38;5;124;03m\"\"\"\u001b[39;00m\n\u001b[0;32m   4142\u001b[0m \u001b[38;5;124;03m    Internal version of the `take` method that sets the `_is_copy`\u001b[39;00m\n\u001b[0;32m   4143\u001b[0m \u001b[38;5;124;03m    attribute to keep track of the parent dataframe (using in indexing\u001b[39;00m\n\u001b[1;32m   (...)\u001b[0m\n\u001b[0;32m   4148\u001b[0m \u001b[38;5;124;03m    See the docstring of `take` for full explanation of the parameters.\u001b[39;00m\n\u001b[0;32m   4149\u001b[0m \u001b[38;5;124;03m    \"\"\"\u001b[39;00m\n\u001b[1;32m-> 4150\u001b[0m     result \u001b[38;5;241m=\u001b[39m \u001b[38;5;28;43mself\u001b[39;49m\u001b[38;5;241;43m.\u001b[39;49m\u001b[43mtake\u001b[49m\u001b[43m(\u001b[49m\u001b[43mindices\u001b[49m\u001b[38;5;241;43m=\u001b[39;49m\u001b[43mindices\u001b[49m\u001b[43m,\u001b[49m\u001b[43m \u001b[49m\u001b[43maxis\u001b[49m\u001b[38;5;241;43m=\u001b[39;49m\u001b[43maxis\u001b[49m\u001b[43m)\u001b[49m\n\u001b[0;32m   4151\u001b[0m     \u001b[38;5;66;03m# Maybe set copy if we didn't actually change the index.\u001b[39;00m\n\u001b[0;32m   4152\u001b[0m     \u001b[38;5;28;01mif\u001b[39;00m \u001b[38;5;28mself\u001b[39m\u001b[38;5;241m.\u001b[39mndim \u001b[38;5;241m==\u001b[39m \u001b[38;5;241m2\u001b[39m \u001b[38;5;129;01mand\u001b[39;00m \u001b[38;5;129;01mnot\u001b[39;00m result\u001b[38;5;241m.\u001b[39m_get_axis(axis)\u001b[38;5;241m.\u001b[39mequals(\u001b[38;5;28mself\u001b[39m\u001b[38;5;241m.\u001b[39m_get_axis(axis)):\n",
            "File \u001b[1;32m~\\AppData\\Local\\Packages\\PythonSoftwareFoundation.Python.3.11_qbz5n2kfra8p0\\LocalCache\\local-packages\\Python311\\site-packages\\pandas\\core\\generic.py:4130\u001b[0m, in \u001b[0;36mNDFrame.take\u001b[1;34m(self, indices, axis, **kwargs)\u001b[0m\n\u001b[0;32m   4125\u001b[0m     \u001b[38;5;66;03m# We can get here with a slice via DataFrame.__getitem__\u001b[39;00m\n\u001b[0;32m   4126\u001b[0m     indices \u001b[38;5;241m=\u001b[39m np\u001b[38;5;241m.\u001b[39marange(\n\u001b[0;32m   4127\u001b[0m         indices\u001b[38;5;241m.\u001b[39mstart, indices\u001b[38;5;241m.\u001b[39mstop, indices\u001b[38;5;241m.\u001b[39mstep, dtype\u001b[38;5;241m=\u001b[39mnp\u001b[38;5;241m.\u001b[39mintp\n\u001b[0;32m   4128\u001b[0m     )\n\u001b[1;32m-> 4130\u001b[0m new_data \u001b[38;5;241m=\u001b[39m \u001b[38;5;28;43mself\u001b[39;49m\u001b[38;5;241;43m.\u001b[39;49m\u001b[43m_mgr\u001b[49m\u001b[38;5;241;43m.\u001b[39;49m\u001b[43mtake\u001b[49m\u001b[43m(\u001b[49m\n\u001b[0;32m   4131\u001b[0m \u001b[43m    \u001b[49m\u001b[43mindices\u001b[49m\u001b[43m,\u001b[49m\n\u001b[0;32m   4132\u001b[0m \u001b[43m    \u001b[49m\u001b[43maxis\u001b[49m\u001b[38;5;241;43m=\u001b[39;49m\u001b[38;5;28;43mself\u001b[39;49m\u001b[38;5;241;43m.\u001b[39;49m\u001b[43m_get_block_manager_axis\u001b[49m\u001b[43m(\u001b[49m\u001b[43maxis\u001b[49m\u001b[43m)\u001b[49m\u001b[43m,\u001b[49m\n\u001b[0;32m   4133\u001b[0m \u001b[43m    \u001b[49m\u001b[43mverify\u001b[49m\u001b[38;5;241;43m=\u001b[39;49m\u001b[38;5;28;43;01mTrue\u001b[39;49;00m\u001b[43m,\u001b[49m\n\u001b[0;32m   4134\u001b[0m \u001b[43m\u001b[49m\u001b[43m)\u001b[49m\n\u001b[0;32m   4135\u001b[0m \u001b[38;5;28;01mreturn\u001b[39;00m \u001b[38;5;28mself\u001b[39m\u001b[38;5;241m.\u001b[39m_constructor_from_mgr(new_data, axes\u001b[38;5;241m=\u001b[39mnew_data\u001b[38;5;241m.\u001b[39maxes)\u001b[38;5;241m.\u001b[39m__finalize__(\n\u001b[0;32m   4136\u001b[0m     \u001b[38;5;28mself\u001b[39m, method\u001b[38;5;241m=\u001b[39m\u001b[38;5;124m\"\u001b[39m\u001b[38;5;124mtake\u001b[39m\u001b[38;5;124m\"\u001b[39m\n\u001b[0;32m   4137\u001b[0m )\n",
            "File \u001b[1;32m~\\AppData\\Local\\Packages\\PythonSoftwareFoundation.Python.3.11_qbz5n2kfra8p0\\LocalCache\\local-packages\\Python311\\site-packages\\pandas\\core\\internals\\managers.py:894\u001b[0m, in \u001b[0;36mBaseBlockManager.take\u001b[1;34m(self, indexer, axis, verify)\u001b[0m\n\u001b[0;32m    891\u001b[0m indexer \u001b[38;5;241m=\u001b[39m maybe_convert_indices(indexer, n, verify\u001b[38;5;241m=\u001b[39mverify)\n\u001b[0;32m    893\u001b[0m new_labels \u001b[38;5;241m=\u001b[39m \u001b[38;5;28mself\u001b[39m\u001b[38;5;241m.\u001b[39maxes[axis]\u001b[38;5;241m.\u001b[39mtake(indexer)\n\u001b[1;32m--> 894\u001b[0m \u001b[38;5;28;01mreturn\u001b[39;00m \u001b[38;5;28;43mself\u001b[39;49m\u001b[38;5;241;43m.\u001b[39;49m\u001b[43mreindex_indexer\u001b[49m\u001b[43m(\u001b[49m\n\u001b[0;32m    895\u001b[0m \u001b[43m    \u001b[49m\u001b[43mnew_axis\u001b[49m\u001b[38;5;241;43m=\u001b[39;49m\u001b[43mnew_labels\u001b[49m\u001b[43m,\u001b[49m\n\u001b[0;32m    896\u001b[0m \u001b[43m    \u001b[49m\u001b[43mindexer\u001b[49m\u001b[38;5;241;43m=\u001b[39;49m\u001b[43mindexer\u001b[49m\u001b[43m,\u001b[49m\n\u001b[0;32m    897\u001b[0m \u001b[43m    \u001b[49m\u001b[43maxis\u001b[49m\u001b[38;5;241;43m=\u001b[39;49m\u001b[43maxis\u001b[49m\u001b[43m,\u001b[49m\n\u001b[0;32m    898\u001b[0m \u001b[43m    \u001b[49m\u001b[43mallow_dups\u001b[49m\u001b[38;5;241;43m=\u001b[39;49m\u001b[38;5;28;43;01mTrue\u001b[39;49;00m\u001b[43m,\u001b[49m\n\u001b[0;32m    899\u001b[0m \u001b[43m    \u001b[49m\u001b[43mcopy\u001b[49m\u001b[38;5;241;43m=\u001b[39;49m\u001b[38;5;28;43;01mNone\u001b[39;49;00m\u001b[43m,\u001b[49m\n\u001b[0;32m    900\u001b[0m \u001b[43m\u001b[49m\u001b[43m)\u001b[49m\n",
            "File \u001b[1;32m~\\AppData\\Local\\Packages\\PythonSoftwareFoundation.Python.3.11_qbz5n2kfra8p0\\LocalCache\\local-packages\\Python311\\site-packages\\pandas\\core\\internals\\managers.py:687\u001b[0m, in \u001b[0;36mBaseBlockManager.reindex_indexer\u001b[1;34m(self, new_axis, indexer, axis, fill_value, allow_dups, copy, only_slice, use_na_proxy)\u001b[0m\n\u001b[0;32m    680\u001b[0m     new_blocks \u001b[38;5;241m=\u001b[39m \u001b[38;5;28mself\u001b[39m\u001b[38;5;241m.\u001b[39m_slice_take_blocks_ax0(\n\u001b[0;32m    681\u001b[0m         indexer,\n\u001b[0;32m    682\u001b[0m         fill_value\u001b[38;5;241m=\u001b[39mfill_value,\n\u001b[0;32m    683\u001b[0m         only_slice\u001b[38;5;241m=\u001b[39monly_slice,\n\u001b[0;32m    684\u001b[0m         use_na_proxy\u001b[38;5;241m=\u001b[39muse_na_proxy,\n\u001b[0;32m    685\u001b[0m     )\n\u001b[0;32m    686\u001b[0m \u001b[38;5;28;01melse\u001b[39;00m:\n\u001b[1;32m--> 687\u001b[0m     new_blocks \u001b[38;5;241m=\u001b[39m \u001b[43m[\u001b[49m\n\u001b[0;32m    688\u001b[0m \u001b[43m        \u001b[49m\u001b[43mblk\u001b[49m\u001b[38;5;241;43m.\u001b[39;49m\u001b[43mtake_nd\u001b[49m\u001b[43m(\u001b[49m\n\u001b[0;32m    689\u001b[0m \u001b[43m            \u001b[49m\u001b[43mindexer\u001b[49m\u001b[43m,\u001b[49m\n\u001b[0;32m    690\u001b[0m \u001b[43m            \u001b[49m\u001b[43maxis\u001b[49m\u001b[38;5;241;43m=\u001b[39;49m\u001b[38;5;241;43m1\u001b[39;49m\u001b[43m,\u001b[49m\n\u001b[0;32m    691\u001b[0m \u001b[43m            \u001b[49m\u001b[43mfill_value\u001b[49m\u001b[38;5;241;43m=\u001b[39;49m\u001b[43m(\u001b[49m\n\u001b[0;32m    692\u001b[0m \u001b[43m                \u001b[49m\u001b[43mfill_value\u001b[49m\u001b[43m \u001b[49m\u001b[38;5;28;43;01mif\u001b[39;49;00m\u001b[43m \u001b[49m\u001b[43mfill_value\u001b[49m\u001b[43m \u001b[49m\u001b[38;5;129;43;01mis\u001b[39;49;00m\u001b[43m \u001b[49m\u001b[38;5;129;43;01mnot\u001b[39;49;00m\u001b[43m \u001b[49m\u001b[38;5;28;43;01mNone\u001b[39;49;00m\u001b[43m \u001b[49m\u001b[38;5;28;43;01melse\u001b[39;49;00m\u001b[43m \u001b[49m\u001b[43mblk\u001b[49m\u001b[38;5;241;43m.\u001b[39;49m\u001b[43mfill_value\u001b[49m\n\u001b[0;32m    693\u001b[0m \u001b[43m            \u001b[49m\u001b[43m)\u001b[49m\u001b[43m,\u001b[49m\n\u001b[0;32m    694\u001b[0m \u001b[43m        \u001b[49m\u001b[43m)\u001b[49m\n\u001b[0;32m    695\u001b[0m \u001b[43m        \u001b[49m\u001b[38;5;28;43;01mfor\u001b[39;49;00m\u001b[43m \u001b[49m\u001b[43mblk\u001b[49m\u001b[43m \u001b[49m\u001b[38;5;129;43;01min\u001b[39;49;00m\u001b[43m \u001b[49m\u001b[38;5;28;43mself\u001b[39;49m\u001b[38;5;241;43m.\u001b[39;49m\u001b[43mblocks\u001b[49m\n\u001b[0;32m    696\u001b[0m \u001b[43m    \u001b[49m\u001b[43m]\u001b[49m\n\u001b[0;32m    698\u001b[0m new_axes \u001b[38;5;241m=\u001b[39m \u001b[38;5;28mlist\u001b[39m(\u001b[38;5;28mself\u001b[39m\u001b[38;5;241m.\u001b[39maxes)\n\u001b[0;32m    699\u001b[0m new_axes[axis] \u001b[38;5;241m=\u001b[39m new_axis\n",
            "File \u001b[1;32m~\\AppData\\Local\\Packages\\PythonSoftwareFoundation.Python.3.11_qbz5n2kfra8p0\\LocalCache\\local-packages\\Python311\\site-packages\\pandas\\core\\internals\\managers.py:688\u001b[0m, in \u001b[0;36m<listcomp>\u001b[1;34m(.0)\u001b[0m\n\u001b[0;32m    680\u001b[0m     new_blocks \u001b[38;5;241m=\u001b[39m \u001b[38;5;28mself\u001b[39m\u001b[38;5;241m.\u001b[39m_slice_take_blocks_ax0(\n\u001b[0;32m    681\u001b[0m         indexer,\n\u001b[0;32m    682\u001b[0m         fill_value\u001b[38;5;241m=\u001b[39mfill_value,\n\u001b[0;32m    683\u001b[0m         only_slice\u001b[38;5;241m=\u001b[39monly_slice,\n\u001b[0;32m    684\u001b[0m         use_na_proxy\u001b[38;5;241m=\u001b[39muse_na_proxy,\n\u001b[0;32m    685\u001b[0m     )\n\u001b[0;32m    686\u001b[0m \u001b[38;5;28;01melse\u001b[39;00m:\n\u001b[0;32m    687\u001b[0m     new_blocks \u001b[38;5;241m=\u001b[39m [\n\u001b[1;32m--> 688\u001b[0m         \u001b[43mblk\u001b[49m\u001b[38;5;241;43m.\u001b[39;49m\u001b[43mtake_nd\u001b[49m\u001b[43m(\u001b[49m\n\u001b[0;32m    689\u001b[0m \u001b[43m            \u001b[49m\u001b[43mindexer\u001b[49m\u001b[43m,\u001b[49m\n\u001b[0;32m    690\u001b[0m \u001b[43m            \u001b[49m\u001b[43maxis\u001b[49m\u001b[38;5;241;43m=\u001b[39;49m\u001b[38;5;241;43m1\u001b[39;49m\u001b[43m,\u001b[49m\n\u001b[0;32m    691\u001b[0m \u001b[43m            \u001b[49m\u001b[43mfill_value\u001b[49m\u001b[38;5;241;43m=\u001b[39;49m\u001b[43m(\u001b[49m\n\u001b[0;32m    692\u001b[0m \u001b[43m                \u001b[49m\u001b[43mfill_value\u001b[49m\u001b[43m \u001b[49m\u001b[38;5;28;43;01mif\u001b[39;49;00m\u001b[43m \u001b[49m\u001b[43mfill_value\u001b[49m\u001b[43m \u001b[49m\u001b[38;5;129;43;01mis\u001b[39;49;00m\u001b[43m \u001b[49m\u001b[38;5;129;43;01mnot\u001b[39;49;00m\u001b[43m \u001b[49m\u001b[38;5;28;43;01mNone\u001b[39;49;00m\u001b[43m \u001b[49m\u001b[38;5;28;43;01melse\u001b[39;49;00m\u001b[43m \u001b[49m\u001b[43mblk\u001b[49m\u001b[38;5;241;43m.\u001b[39;49m\u001b[43mfill_value\u001b[49m\n\u001b[0;32m    693\u001b[0m \u001b[43m            \u001b[49m\u001b[43m)\u001b[49m\u001b[43m,\u001b[49m\n\u001b[0;32m    694\u001b[0m \u001b[43m        \u001b[49m\u001b[43m)\u001b[49m\n\u001b[0;32m    695\u001b[0m         \u001b[38;5;28;01mfor\u001b[39;00m blk \u001b[38;5;129;01min\u001b[39;00m \u001b[38;5;28mself\u001b[39m\u001b[38;5;241m.\u001b[39mblocks\n\u001b[0;32m    696\u001b[0m     ]\n\u001b[0;32m    698\u001b[0m new_axes \u001b[38;5;241m=\u001b[39m \u001b[38;5;28mlist\u001b[39m(\u001b[38;5;28mself\u001b[39m\u001b[38;5;241m.\u001b[39maxes)\n\u001b[0;32m    699\u001b[0m new_axes[axis] \u001b[38;5;241m=\u001b[39m new_axis\n",
            "File \u001b[1;32m~\\AppData\\Local\\Packages\\PythonSoftwareFoundation.Python.3.11_qbz5n2kfra8p0\\LocalCache\\local-packages\\Python311\\site-packages\\pandas\\core\\internals\\blocks.py:1307\u001b[0m, in \u001b[0;36mBlock.take_nd\u001b[1;34m(self, indexer, axis, new_mgr_locs, fill_value)\u001b[0m\n\u001b[0;32m   1304\u001b[0m     allow_fill \u001b[38;5;241m=\u001b[39m \u001b[38;5;28;01mTrue\u001b[39;00m\n\u001b[0;32m   1306\u001b[0m \u001b[38;5;66;03m# Note: algos.take_nd has upcast logic similar to coerce_to_target_dtype\u001b[39;00m\n\u001b[1;32m-> 1307\u001b[0m new_values \u001b[38;5;241m=\u001b[39m \u001b[43malgos\u001b[49m\u001b[38;5;241;43m.\u001b[39;49m\u001b[43mtake_nd\u001b[49m\u001b[43m(\u001b[49m\n\u001b[0;32m   1308\u001b[0m \u001b[43m    \u001b[49m\u001b[43mvalues\u001b[49m\u001b[43m,\u001b[49m\u001b[43m \u001b[49m\u001b[43mindexer\u001b[49m\u001b[43m,\u001b[49m\u001b[43m \u001b[49m\u001b[43maxis\u001b[49m\u001b[38;5;241;43m=\u001b[39;49m\u001b[43maxis\u001b[49m\u001b[43m,\u001b[49m\u001b[43m \u001b[49m\u001b[43mallow_fill\u001b[49m\u001b[38;5;241;43m=\u001b[39;49m\u001b[43mallow_fill\u001b[49m\u001b[43m,\u001b[49m\u001b[43m \u001b[49m\u001b[43mfill_value\u001b[49m\u001b[38;5;241;43m=\u001b[39;49m\u001b[43mfill_value\u001b[49m\n\u001b[0;32m   1309\u001b[0m \u001b[43m\u001b[49m\u001b[43m)\u001b[49m\n\u001b[0;32m   1311\u001b[0m \u001b[38;5;66;03m# Called from three places in managers, all of which satisfy\u001b[39;00m\n\u001b[0;32m   1312\u001b[0m \u001b[38;5;66;03m#  these assertions\u001b[39;00m\n\u001b[0;32m   1313\u001b[0m \u001b[38;5;28;01mif\u001b[39;00m \u001b[38;5;28misinstance\u001b[39m(\u001b[38;5;28mself\u001b[39m, ExtensionBlock):\n\u001b[0;32m   1314\u001b[0m     \u001b[38;5;66;03m# NB: in this case, the 'axis' kwarg will be ignored in the\u001b[39;00m\n\u001b[0;32m   1315\u001b[0m     \u001b[38;5;66;03m#  algos.take_nd call above.\u001b[39;00m\n",
            "File \u001b[1;32m~\\AppData\\Local\\Packages\\PythonSoftwareFoundation.Python.3.11_qbz5n2kfra8p0\\LocalCache\\local-packages\\Python311\\site-packages\\pandas\\core\\array_algos\\take.py:117\u001b[0m, in \u001b[0;36mtake_nd\u001b[1;34m(arr, indexer, axis, fill_value, allow_fill)\u001b[0m\n\u001b[0;32m    114\u001b[0m     \u001b[38;5;28;01mreturn\u001b[39;00m arr\u001b[38;5;241m.\u001b[39mtake(indexer, fill_value\u001b[38;5;241m=\u001b[39mfill_value, allow_fill\u001b[38;5;241m=\u001b[39mallow_fill)\n\u001b[0;32m    116\u001b[0m arr \u001b[38;5;241m=\u001b[39m np\u001b[38;5;241m.\u001b[39masarray(arr)\n\u001b[1;32m--> 117\u001b[0m \u001b[38;5;28;01mreturn\u001b[39;00m \u001b[43m_take_nd_ndarray\u001b[49m\u001b[43m(\u001b[49m\u001b[43marr\u001b[49m\u001b[43m,\u001b[49m\u001b[43m \u001b[49m\u001b[43mindexer\u001b[49m\u001b[43m,\u001b[49m\u001b[43m \u001b[49m\u001b[43maxis\u001b[49m\u001b[43m,\u001b[49m\u001b[43m \u001b[49m\u001b[43mfill_value\u001b[49m\u001b[43m,\u001b[49m\u001b[43m \u001b[49m\u001b[43mallow_fill\u001b[49m\u001b[43m)\u001b[49m\n",
            "File \u001b[1;32m~\\AppData\\Local\\Packages\\PythonSoftwareFoundation.Python.3.11_qbz5n2kfra8p0\\LocalCache\\local-packages\\Python311\\site-packages\\pandas\\core\\array_algos\\take.py:157\u001b[0m, in \u001b[0;36m_take_nd_ndarray\u001b[1;34m(arr, indexer, axis, fill_value, allow_fill)\u001b[0m\n\u001b[0;32m    155\u001b[0m     out \u001b[38;5;241m=\u001b[39m np\u001b[38;5;241m.\u001b[39mempty(out_shape, dtype\u001b[38;5;241m=\u001b[39mdtype, order\u001b[38;5;241m=\u001b[39m\u001b[38;5;124m\"\u001b[39m\u001b[38;5;124mF\u001b[39m\u001b[38;5;124m\"\u001b[39m)\n\u001b[0;32m    156\u001b[0m \u001b[38;5;28;01melse\u001b[39;00m:\n\u001b[1;32m--> 157\u001b[0m     out \u001b[38;5;241m=\u001b[39m np\u001b[38;5;241m.\u001b[39mempty(out_shape, dtype\u001b[38;5;241m=\u001b[39mdtype)\n\u001b[0;32m    159\u001b[0m func \u001b[38;5;241m=\u001b[39m _get_take_nd_function(\n\u001b[0;32m    160\u001b[0m     arr\u001b[38;5;241m.\u001b[39mndim, arr\u001b[38;5;241m.\u001b[39mdtype, out\u001b[38;5;241m.\u001b[39mdtype, axis\u001b[38;5;241m=\u001b[39maxis, mask_info\u001b[38;5;241m=\u001b[39mmask_info\n\u001b[0;32m    161\u001b[0m )\n\u001b[0;32m    162\u001b[0m func(arr, indexer, out, fill_value)\n",
            "\u001b[1;31mMemoryError\u001b[0m: Unable to allocate 48.9 MiB for an array with shape (6, 1068843) and data type object"
          ]
        }
      ],
      "source": [
        "#Grab only CNRL wells\n",
        "CNRL_all_df=combined_ALL_df[(combined_ALL_df['OperatorName']=='CANADIAN NATURAL RESOURCES LIMITED.')]\n",
        "#CNRL_all_df=CNRL_all_df.dropna(axis=1,how='all')\n",
        "CNRL_all_df=CNRL_all_df.drop('OperatorName',axis=1)\n",
        "#Clean and fix data\n",
        "CNRL_all_df['ProductionMonth']=pd.to_datetime(CNRL_all_df['ProductionMonth'])\n",
        "CNRL_all_df['SubmissionDate']=pd.to_datetime(CNRL_all_df['SubmissionDate'])\n",
        "CNRL_all_df = CNRL_all_df.dropna(subset=['Volume'])\n",
        "CNRL_all_df['Volume'] = pd.to_numeric(CNRL_all_df['Volume'], errors='coerce')\n",
        "CNRL_all_df['Volume']=CNRL_all_df['Volume'].astype(float)\n",
        "CNRL_all_df['Volume']=CNRL_all_df['Volume']*6.28981\n",
        "print(CNRL_all_df['Volume'].describe())\n",
        "print(CNRL_all_df.info())\n",
        "#removing negative values\n",
        "CNRL_all_df = CNRL_all_df[CNRL_all_df['Volume'] >= 0]\n",
        "\n",
        "#Locate top 10 wells\n",
        "top_10_CNRL = CNRL_all_df[(CNRL_all_df['ProductID']=='OIL')&(CNRL_all_df['ActivityID']=='PROD')]\n",
        "top_10_CNRL = top_10_CNRL.groupby(['FromToID'])['Volume'].sum()\n",
        "top_10_CNRL = top_10_CNRL.sort_values(ascending=False)\n",
        "top_10_CNRL = top_10_CNRL.head(10)\n",
        "print(top_10_CNRL)"
      ]
    },
    {
      "cell_type": "code",
      "execution_count": 30,
      "metadata": {
        "colab": {
          "base_uri": "https://localhost:8080/"
        },
        "id": "zZbtbtuSesi6",
        "outputId": "1fc99bf1-46ae-4ea3-89fe-8e9addb9f1fa"
      },
      "outputs": [
        {
          "ename": "NameError",
          "evalue": "name 'top_10_CNRL' is not defined",
          "output_type": "error",
          "traceback": [
            "\u001b[1;31m---------------------------------------------------------------------------\u001b[0m",
            "\u001b[1;31mNameError\u001b[0m                                 Traceback (most recent call last)",
            "Cell \u001b[1;32mIn[30], line 1\u001b[0m\n\u001b[1;32m----> 1\u001b[0m \u001b[38;5;28;01mfor\u001b[39;00m well \u001b[38;5;129;01min\u001b[39;00m \u001b[43mtop_10_CNRL\u001b[49m\u001b[38;5;241m.\u001b[39mindex:\n\u001b[0;32m      2\u001b[0m   well_prods_act(CNRL_all_df,well)\n",
            "\u001b[1;31mNameError\u001b[0m: name 'top_10_CNRL' is not defined"
          ]
        }
      ],
      "source": [
        "for well in top_10_CNRL.index:\n",
        "  well_prods_act(CNRL_all_df,well)"
      ]
    },
    {
      "cell_type": "code",
      "execution_count": null,
      "metadata": {},
      "outputs": [
        {
          "ename": "NameError",
          "evalue": "name 'top_10_CNRL' is not defined",
          "output_type": "error",
          "traceback": [
            "\u001b[1;31m---------------------------------------------------------------------------\u001b[0m\n",
            "\u001b[1;31mNameError\u001b[0m                                 Traceback (most recent call last)\n",
            "Cell \u001b[1;32mIn[30], line 1\u001b[0m\n",
            "\u001b[1;32m----> 1\u001b[0m \u001b[38;5;28;01mfor\u001b[39;00m well \u001b[38;5;129;01min\u001b[39;00m \u001b[43mtop_10_CNRL\u001b[49m\u001b[38;5;241m.\u001b[39mindex:\n",
            "\u001b[0;32m      2\u001b[0m   well_prods_act(CNRL_all_df,well)\n",
            "\n",
            "\u001b[1;31mNameError\u001b[0m: name 'top_10_CNRL' is not defined"
          ]
        }
      ],
      "source": [
        "for well in top_10_CNRL.index:\n",
        "  well_prods_act(CNRL_all_df,well)"
      ]
    },
    {
      "cell_type": "code",
      "execution_count": 20,
      "metadata": {
        "colab": {
          "base_uri": "https://localhost:8080/"
        },
        "id": "-XLJ3vIoevTm",
        "outputId": "30937ad8-2ab1-423f-e89d-bfefdda98346"
      },
      "outputs": [
        {
          "name": "stdout",
          "output_type": "stream",
          "text": [
            "[67.42052270582707, 68.50821693525006, 66.4203171063965, 69.39626982286933, 70.01195645649324, 73.2466170329131, 67.51610628763524, 66.22696158355244, 62.1888053479928, 64.07407381079987]\n"
          ]
        }
      ],
      "source": [
        "CNRL_watercut=[]\n",
        "for well in top_10_CNRL.index:\n",
        "  CNRL_watercut.append(Water_cut(CNRL_all_df,well)[1])\n",
        "\n",
        "print(CNRL_watercut)"
      ]
    },
    {
      "cell_type": "markdown",
      "metadata": {
        "id": "5moE72Zre1O0"
      },
      "source": [
        "The Water cut content for CNRL seems to be the same as Cenovus. The main difference is that there's Steam content now. Lets explore the highest\n",
        "\n",
        "Another find to point out is that there's data of load fluid injection but not recovery. That means there's additional costs for this company"
      ]
    },
    {
      "cell_type": "code",
      "execution_count": 21,
      "metadata": {
        "colab": {
          "base_uri": "https://localhost:8080/",
          "height": 482
        },
        "id": "jgaFle6ie18a",
        "outputId": "914eb584-45ca-421d-8ae5-daf231c24668"
      },
      "outputs": [
        {
          "data": {
            "image/png": "[encoded data removed]",
            "text/plain": [
              "<Figure size 640x480 with 1 Axes>"
            ]
          },
          "metadata": {},
          "output_type": "display_data"
        }
      ],
      "source": [
        "CNRL_top1=CNRL_all_df[CNRL_all_df['FromToID']=='ABWI105063607508W400']\n",
        "sns.scatterplot(data=CNRL_top1,x='ProductionMonth',y='Volume',hue='ProductID')\n",
        "plt.xticks(rotation=90,fontsize=8)\n",
        "plt.ylabel('Total Volume (bbl)')\n",
        "plt.xlabel('Production Date')\n",
        "plt.show()"
      ]
    },
    {
      "cell_type": "markdown",
      "metadata": {
        "id": "UB0KgYlDe6uf"
      },
      "source": [
        "The only moment that it seems to matter is during the first month. Since the steam content is very high it might indicate some inneficiencies. We would need to check it's performance in 2023. It seemed to have been fixed in the latter months"
      ]
    },
    {
      "cell_type": "markdown",
      "metadata": {
        "id": "_kLmyqe6fEs-"
      },
      "source": [
        "Suncor"
      ]
    },
    {
      "cell_type": "code",
      "execution_count": 22,
      "metadata": {
        "colab": {
          "base_uri": "https://localhost:8080/"
        },
        "id": "xvAhlqAke3qd",
        "outputId": "2ba31792-05d8-4824-e3fd-7ee9efdf5715"
      },
      "outputs": [
        {
          "name": "stdout",
          "output_type": "stream",
          "text": [
            "count    2.621700e+04\n",
            "mean     5.462027e+04\n",
            "std      6.236563e+05\n",
            "min     -2.101485e+06\n",
            "25%      2.138535e+02\n",
            "50%      9.036570e+03\n",
            "75%      3.711177e+04\n",
            "max      2.168592e+07\n",
            "Name: Volume, dtype: float64\n",
            "<class 'pandas.core.frame.DataFrame'>\n",
            "Index: 26217 entries, 13892 to 5541694\n",
            "Data columns (total 28 columns):\n",
            " #   Column                          Non-Null Count  Dtype         \n",
            "---  ------                          --------------  -----         \n",
            " 0   ProductionMonth                 26217 non-null  datetime64[ns]\n",
            " 1   OperatorBAID                    26217 non-null  object        \n",
            " 2   ReportingFacilityID             26217 non-null  object        \n",
            " 3   ReportingFacilityProvinceState  26217 non-null  object        \n",
            " 4   ReportingFacilityType           26217 non-null  object        \n",
            " 5   ReportingFacilityIdentifier     26217 non-null  int64         \n",
            " 6   ReportingFacilityName           26217 non-null  object        \n",
            " 7   ReportingFacilitySubType        26217 non-null  int64         \n",
            " 8   ReportingFacilitySubTypeDesc    26217 non-null  object        \n",
            " 9   ReportingFacilityLocation       26217 non-null  object        \n",
            " 10  FacilityLegalSubdivision        26217 non-null  int64         \n",
            " 11  FacilitySection                 26217 non-null  int64         \n",
            " 12  FacilityTownship                26217 non-null  int64         \n",
            " 13  FacilityRange                   26217 non-null  int64         \n",
            " 14  FacilityMeridian                26217 non-null  int64         \n",
            " 15  SubmissionDate                  26217 non-null  datetime64[ns]\n",
            " 16  ActivityID                      26217 non-null  object        \n",
            " 17  ProductID                       26217 non-null  object        \n",
            " 18  FromToID                        25856 non-null  object        \n",
            " 19  FromToIDProvinceState           25778 non-null  object        \n",
            " 20  FromToIDType                    25778 non-null  object        \n",
            " 21  FromToIDIdentifier              25833 non-null  object        \n",
            " 22  Volume                          26217 non-null  float64       \n",
            " 23  Energy                          144 non-null    float64       \n",
            " 24  Hours                           11595 non-null  object        \n",
            " 25  CCICode                         26139 non-null  object        \n",
            " 26  ProrationProduct                0 non-null      object        \n",
            " 27  ProrationFactor                 0 non-null      float64       \n",
            "dtypes: datetime64[ns](2), float64(3), int64(7), object(16)\n",
            "memory usage: 5.8+ MB\n",
            "None\n",
            "FromToID\n",
            "ABWI102163509406W403    1.163844e+06\n",
            "ABWI109141009506W400    9.935623e+05\n",
            "ABWI106021509506W400    9.227139e+05\n",
            "ABWI100153509406W402    8.558651e+05\n",
            "ABWI1S0031509506W400    8.256112e+05\n",
            "ABWI105031509506W400    7.790810e+05\n",
            "ABWI106133609406W400    7.528204e+05\n",
            "ABWI102021509506W400    7.513455e+05\n",
            "ABWI107041609506W400    6.053797e+05\n",
            "ABWI106041609506W400    5.931366e+05\n",
            "Name: Volume, dtype: float64\n"
          ]
        }
      ],
      "source": [
        "#Grab only SUNCOR wells\n",
        "SUNCOR_all_df=combined_ALL_df[(combined_ALL_df['OperatorName']=='SUNCOR ENERGY INC.')]\n",
        "SUNCOR_all_df=SUNCOR_all_df.dropna(axis=1,how='all')\n",
        "SUNCOR_all_df=SUNCOR_all_df.drop('OperatorName',axis=1)\n",
        "#Clean and fix data\n",
        "SUNCOR_all_df['ProductionMonth']=pd.to_datetime(SUNCOR_all_df['ProductionMonth'])\n",
        "SUNCOR_all_df['SubmissionDate']=pd.to_datetime(SUNCOR_all_df['SubmissionDate'])\n",
        "SUNCOR_all_df = SUNCOR_all_df.dropna(subset=['Volume'])\n",
        "SUNCOR_all_df['Volume'] = pd.to_numeric(SUNCOR_all_df['Volume'], errors='coerce')\n",
        "SUNCOR_all_df['Volume']=SUNCOR_all_df['Volume'].astype(float)\n",
        "SUNCOR_all_df['Volume']=SUNCOR_all_df['Volume']*6.28981\n",
        "print(SUNCOR_all_df['Volume'].describe())\n",
        "print(SUNCOR_all_df.info())\n",
        "#removing negative values\n",
        "SUNCOR_all_df = SUNCOR_all_df[SUNCOR_all_df['Volume'] >= 0]\n",
        "\n",
        "#Locate top 10 wells\n",
        "top_10_SUNCOR = SUNCOR_all_df[(SUNCOR_all_df['ProductID']=='OIL')&(SUNCOR_all_df['ActivityID']=='PROD')]\n",
        "top_10_SUNCOR = top_10_SUNCOR.groupby(['FromToID'])['Volume'].sum()\n",
        "top_10_SUNCOR = top_10_SUNCOR.sort_values(ascending=False)\n",
        "top_10_SUNCOR = top_10_SUNCOR.head(10)\n",
        "print(top_10_SUNCOR)"
      ]
    },
    {
      "cell_type": "code",
      "execution_count": 23,
      "metadata": {
        "colab": {
          "base_uri": "https://localhost:8080/"
        },
        "id": "SKhrFFesex8k",
        "outputId": "33945cd4-2421-4f43-8f43-8a43d6475a98"
      },
      "outputs": [
        {
          "name": "stdout",
          "output_type": "stream",
          "text": [
            "['PROD']\n",
            "['GAS' 'OIL' 'WATER']\n",
            "['PROD' 'LDINJ' 'LDINVCL' 'LDINVOP' 'LDREC']\n",
            "['GAS' 'OIL' 'WATER']\n",
            "['PROD' 'LDINJ' 'LDREC']\n",
            "['GAS' 'OIL' 'WATER']\n",
            "['PROD' 'LDINJ' 'LDREC']\n",
            "['GAS' 'OIL' 'WATER']\n",
            "['PROD' 'LDINJ' 'LDREC']\n",
            "['GAS' 'OIL' 'WATER']\n",
            "['PROD' 'LDINJ' 'LDREC']\n",
            "['GAS' 'OIL' 'WATER']\n",
            "['PROD' 'LDINJ' 'LDREC']\n",
            "['GAS' 'OIL' 'WATER']\n",
            "['PROD' 'LDINJ' 'LDREC']\n",
            "['GAS' 'OIL' 'WATER']\n",
            "['PROD']\n",
            "['GAS' 'OIL' 'WATER']\n",
            "['PROD']\n",
            "['GAS' 'OIL' 'WATER']\n"
          ]
        }
      ],
      "source": [
        "for well in top_10_SUNCOR.index:\n",
        "  well_prods_act(SUNCOR_all_df,well)"
      ]
    },
    {
      "cell_type": "code",
      "execution_count": 24,
      "metadata": {
        "colab": {
          "base_uri": "https://localhost:8080/"
        },
        "id": "8IN3p2nXfLpk",
        "outputId": "b894cd23-4a28-42ea-9a93-5e03bec78b12"
      },
      "outputs": [
        {
          "name": "stdout",
          "output_type": "stream",
          "text": [
            "[67.42052270582707, 68.50821693525006, 66.4203171063965, 69.39626982286933, 70.01195645649324, 73.2466170329131, 67.51610628763524, 66.22696158355244, 62.1888053479928, 64.07407381079987]\n"
          ]
        }
      ],
      "source": [
        "SUNCOR_watercut=[]\n",
        "for well in top_10_SUNCOR.index:\n",
        "  SUNCOR_watercut.append(Water_cut(SUNCOR_all_df,well)[1])\n",
        "\n",
        "print(CNRL_watercut)"
      ]
    },
    {
      "cell_type": "code",
      "execution_count": 25,
      "metadata": {
        "colab": {
          "base_uri": "https://localhost:8080/"
        },
        "id": "ia8elsCPfVK6",
        "outputId": "fb0b8845-6da1-4335-bf92-f6c4a1d49b2b"
      },
      "outputs": [
        {
          "name": "stdout",
          "output_type": "stream",
          "text": [
            "[nan, nan, nan, nan, nan, nan, nan, nan, nan, nan]\n"
          ]
        }
      ],
      "source": [
        "SUNCOR_LD=[]\n",
        "for well in top_10_Cenovus.index:\n",
        "  SUNCOR_LD.append(Load_Fluid(SUNCOR_all_df,well)[1])\n",
        "\n",
        "print(SUNCOR_LD)"
      ]
    },
    {
      "cell_type": "markdown",
      "metadata": {
        "id": "0N4n3KiefYof"
      },
      "source": [
        "The top 10 wells from SUNCOR seem to be more efficient with a water cut value of 55% average.\n",
        "\n",
        "Suncor also seems to be efficient in Load fluid recovery unlike CNRL"
      ]
    },
    {
      "cell_type": "markdown",
      "metadata": {
        "id": "BJbQ-1Bqfp9A"
      },
      "source": [
        "Imperial Oil"
      ]
    },
    {
      "cell_type": "code",
      "execution_count": 26,
      "metadata": {
        "colab": {
          "base_uri": "https://localhost:8080/"
        },
        "id": "Weatz0E_fZDR",
        "outputId": "efcc90a6-d9b9-43df-f988-c23d6baddcf6"
      },
      "outputs": [
        {
          "name": "stdout",
          "output_type": "stream",
          "text": [
            "count    1.104860e+05\n",
            "mean     1.316452e+04\n",
            "std      1.707859e+05\n",
            "min     -4.851054e+05\n",
            "25%      7.421976e+01\n",
            "50%      9.088775e+02\n",
            "75%      3.600759e+03\n",
            "max      8.165301e+06\n",
            "Name: Volume, dtype: float64\n",
            "<class 'pandas.core.frame.DataFrame'>\n",
            "Index: 110486 entries, 221 to 5535877\n",
            "Data columns (total 28 columns):\n",
            " #   Column                          Non-Null Count   Dtype         \n",
            "---  ------                          --------------   -----         \n",
            " 0   ProductionMonth                 110486 non-null  datetime64[ns]\n",
            " 1   OperatorBAID                    110486 non-null  object        \n",
            " 2   ReportingFacilityID             110486 non-null  object        \n",
            " 3   ReportingFacilityProvinceState  110486 non-null  object        \n",
            " 4   ReportingFacilityType           110486 non-null  object        \n",
            " 5   ReportingFacilityIdentifier     110486 non-null  int64         \n",
            " 6   ReportingFacilityName           110486 non-null  object        \n",
            " 7   ReportingFacilitySubType        110486 non-null  int64         \n",
            " 8   ReportingFacilitySubTypeDesc    110486 non-null  object        \n",
            " 9   ReportingFacilityLocation       110486 non-null  object        \n",
            " 10  FacilityLegalSubdivision        110486 non-null  int64         \n",
            " 11  FacilitySection                 110486 non-null  int64         \n",
            " 12  FacilityTownship                110486 non-null  int64         \n",
            " 13  FacilityRange                   110486 non-null  int64         \n",
            " 14  FacilityMeridian                110486 non-null  int64         \n",
            " 15  SubmissionDate                  110486 non-null  datetime64[ns]\n",
            " 16  ActivityID                      110486 non-null  object        \n",
            " 17  ProductID                       110486 non-null  object        \n",
            " 18  FromToID                        109634 non-null  object        \n",
            " 19  FromToIDProvinceState           109382 non-null  object        \n",
            " 20  FromToIDType                    109382 non-null  object        \n",
            " 21  FromToIDIdentifier              109510 non-null  object        \n",
            " 22  Volume                          110486 non-null  float64       \n",
            " 23  Energy                          387 non-null     float64       \n",
            " 24  Hours                           38220 non-null   object        \n",
            " 25  CCICode                         110234 non-null  object        \n",
            " 26  ProrationProduct                0 non-null       object        \n",
            " 27  ProrationFactor                 0 non-null       float64       \n",
            "dtypes: datetime64[ns](2), float64(3), int64(7), object(16)\n",
            "memory usage: 24.4+ MB\n",
            "None\n",
            "FromToID\n",
            "ABWI111060806603W400    278250.501723\n",
            "ABWI105110806603W400    266716.877126\n",
            "ABWI110060806603W400    246656.786093\n",
            "ABWI124120806603W400    238559.284699\n",
            "ABWI112060806603W400    237245.343390\n",
            "ABWI119120806603W400    224624.210644\n",
            "ABWI123120806603W400    211501.151060\n",
            "ABWI109051006604W400    205021.388798\n",
            "ABWI122120806603W400    194728.743714\n",
            "ABWI103130906604W400    186653.885636\n",
            "Name: Volume, dtype: float64\n"
          ]
        }
      ],
      "source": [
        "#Grab only CNRL wells\n",
        "IORL_all_df=combined_ALL_df[(combined_ALL_df['OperatorName']=='IMPERIAL OIL RESOURCES LIMITED')]\n",
        "IORL_all_df=IORL_all_df.dropna(axis=1,how='all')\n",
        "IORL_all_df=IORL_all_df.drop('OperatorName',axis=1)\n",
        "#Clean and fix data\n",
        "IORL_all_df['ProductionMonth']=pd.to_datetime(IORL_all_df['ProductionMonth'])\n",
        "IORL_all_df['SubmissionDate']=pd.to_datetime(IORL_all_df['SubmissionDate'])\n",
        "IORL_all_df = IORL_all_df.dropna(subset=['Volume'])\n",
        "IORL_all_df['Volume'] = pd.to_numeric(IORL_all_df['Volume'], errors='coerce')\n",
        "IORL_all_df['Volume']=IORL_all_df['Volume'].astype(float)\n",
        "IORL_all_df['Volume']=IORL_all_df['Volume']*6.28981\n",
        "print(IORL_all_df['Volume'].describe())\n",
        "print(IORL_all_df.info())\n",
        "#removing negative values\n",
        "IORL_all_df = IORL_all_df[IORL_all_df['Volume'] >= 0]\n",
        "\n",
        "#Locate top 10 wells\n",
        "top_10_IORL = IORL_all_df[(IORL_all_df['ProductID']=='OIL')&(IORL_all_df['ActivityID']=='PROD')]\n",
        "top_10_IORL = top_10_IORL.groupby(['FromToID'])['Volume'].sum()\n",
        "top_10_IORL = top_10_IORL.sort_values(ascending=False)\n",
        "top_10_IORL = top_10_IORL.head(10)\n",
        "print(top_10_IORL)"
      ]
    },
    {
      "cell_type": "code",
      "execution_count": 27,
      "metadata": {
        "colab": {
          "base_uri": "https://localhost:8080/"
        },
        "id": "Cerv7KUJhIrA",
        "outputId": "eec23c0a-cc3d-4a07-9973-c779bbc9b918"
      },
      "outputs": [
        {
          "name": "stdout",
          "output_type": "stream",
          "text": [
            "['PROD']\n",
            "['GAS' 'OIL' 'WATER']\n",
            "['PROD']\n",
            "['GAS' 'OIL' 'WATER']\n",
            "['PROD']\n",
            "['GAS' 'OIL' 'WATER']\n",
            "['PROD' 'LDINJ' 'LDREC']\n",
            "['GAS' 'OIL' 'WATER']\n",
            "['PROD']\n",
            "['GAS' 'OIL' 'WATER']\n",
            "['PROD']\n",
            "['GAS' 'OIL' 'WATER']\n",
            "['PROD']\n",
            "['GAS' 'OIL' 'WATER']\n",
            "['PROD']\n",
            "['GAS' 'OIL' 'WATER']\n",
            "['PROD']\n",
            "['WATER' 'GAS' 'OIL']\n",
            "['PROD']\n",
            "['GAS' 'OIL' 'WATER']\n"
          ]
        }
      ],
      "source": [
        "for well in top_10_IORL.index:\n",
        "  well_prods_act(IORL_all_df,well)"
      ]
    },
    {
      "cell_type": "code",
      "execution_count": 28,
      "metadata": {
        "colab": {
          "base_uri": "https://localhost:8080/"
        },
        "id": "C_tVl6nrkJ4I",
        "outputId": "4275ad55-8870-4248-bcf2-862bd305d907"
      },
      "outputs": [
        {
          "name": "stdout",
          "output_type": "stream",
          "text": [
            "[53.77863740429018, 49.90244478280038, 56.2146170207886, 57.95044647895376, 60.70651148845214, 61.32924695156269, 58.28214634772695, 48.8482626374861, 59.679910877537665, 73.23490858843746]\n",
            "[nan, nan, nan, 100.0, nan, nan, nan, nan, nan, nan]\n"
          ]
        }
      ],
      "source": [
        "IORL_watercut=[]\n",
        "for well in top_10_IORL.index:\n",
        "  IORL_watercut.append(Water_cut(IORL_all_df,well)[1])\n",
        "\n",
        "print(IORL_watercut)\n",
        "\n",
        "IORL_LD=[]\n",
        "for well in top_10_IORL.index:\n",
        "  IORL_LD.append(Load_Fluid(IORL_all_df,well)[1])\n",
        "\n",
        "print(IORL_LD)"
      ]
    },
    {
      "cell_type": "markdown",
      "metadata": {
        "id": "CWUC2YJulE4N"
      },
      "source": [
        "The Watercut content for Imperial Oil seems to be very low, compared to CNRL and Cenovus. This means that their well efficiency is superior overall.\n",
        "\n",
        "There's only 1 instance of load fluid injection, which it seems that they recovered 100% of it"
      ]
    },
    {
      "cell_type": "markdown",
      "metadata": {
        "id": "kdAVTw8wlv3U"
      },
      "source": [
        "Conocophillips"
      ]
    },
    {
      "cell_type": "code",
      "execution_count": 29,
      "metadata": {
        "colab": {
          "base_uri": "https://localhost:8080/"
        },
        "id": "bBI48rIjklNf",
        "outputId": "f9a1c73d-43d9-45c8-e0fe-a0da2b53856b"
      },
      "outputs": [
        {
          "name": "stdout",
          "output_type": "stream",
          "text": [
            "count      8972.000000\n",
            "mean      32456.597502\n",
            "std       36969.864480\n",
            "min           0.628981\n",
            "25%         486.045068\n",
            "50%       20447.543329\n",
            "75%       50555.291347\n",
            "max      234292.277595\n",
            "Name: Volume, dtype: float64\n",
            "<class 'pandas.core.frame.DataFrame'>\n",
            "Index: 8972 entries, 357375 to 5870885\n",
            "Data columns (total 26 columns):\n",
            " #   Column                          Non-Null Count  Dtype         \n",
            "---  ------                          --------------  -----         \n",
            " 0   ProductionMonth                 8972 non-null   datetime64[ns]\n",
            " 1   OperatorBAID                    8972 non-null   object        \n",
            " 2   ReportingFacilityID             8972 non-null   object        \n",
            " 3   ReportingFacilityProvinceState  8972 non-null   object        \n",
            " 4   ReportingFacilityType           8972 non-null   object        \n",
            " 5   ReportingFacilityIdentifier     8972 non-null   int64         \n",
            " 6   ReportingFacilityName           8972 non-null   object        \n",
            " 7   ReportingFacilitySubType        8972 non-null   int64         \n",
            " 8   ReportingFacilitySubTypeDesc    8972 non-null   object        \n",
            " 9   ReportingFacilityLocation       8972 non-null   object        \n",
            " 10  FacilityLegalSubdivision        8972 non-null   int64         \n",
            " 11  FacilitySection                 8972 non-null   int64         \n",
            " 12  FacilityTownship                8972 non-null   int64         \n",
            " 13  FacilityRange                   8972 non-null   int64         \n",
            " 14  FacilityMeridian                8972 non-null   int64         \n",
            " 15  SubmissionDate                  8972 non-null   datetime64[ns]\n",
            " 16  ActivityID                      8972 non-null   object        \n",
            " 17  ProductID                       8972 non-null   object        \n",
            " 18  FromToID                        8972 non-null   object        \n",
            " 19  FromToIDProvinceState           8970 non-null   object        \n",
            " 20  FromToIDType                    8970 non-null   object        \n",
            " 21  FromToIDIdentifier              8972 non-null   object        \n",
            " 22  Volume                          8972 non-null   float64       \n",
            " 23  Energy                          2 non-null      float64       \n",
            " 24  Hours                           4510 non-null   object        \n",
            " 25  CCICode                         8970 non-null   object        \n",
            "dtypes: datetime64[ns](2), float64(2), int64(7), object(15)\n",
            "memory usage: 1.8+ MB\n",
            "None\n",
            "FromToID\n",
            "ABWI102162808306W400    513457.317692\n",
            "ABWI115112308307W400    484206.556287\n",
            "ABWI105062608306W400    484037.360398\n",
            "ABWI100152808306W403    480291.149562\n",
            "ABWI104010308406W400    468695.255846\n",
            "ABWI108132708306W400    438996.030988\n",
            "ABWI114112308307W400    425749.691128\n",
            "ABWI109122608306W402    416552.101965\n",
            "ABWI106080408406W400    407313.629037\n",
            "ABWI103092808306W400    398107.863121\n",
            "Name: Volume, dtype: float64\n"
          ]
        }
      ],
      "source": [
        "#Grab only CNRL wells\n",
        "CP_all_df=combined_ALL_df[(combined_ALL_df['OperatorName']=='CONOCOPHILLIPS CANADA RESOURCES CORP.')]\n",
        "CP_all_df=CP_all_df.dropna(axis=1,how='all')\n",
        "CP_all_df=CP_all_df.drop('OperatorName',axis=1)\n",
        "#Clean and fix data\n",
        "CP_all_df['ProductionMonth']=pd.to_datetime(CP_all_df['ProductionMonth'])\n",
        "CP_all_df['SubmissionDate']=pd.to_datetime(CP_all_df['SubmissionDate'])\n",
        "CP_all_df = CP_all_df.dropna(subset=['Volume'])\n",
        "CP_all_df['Volume'] = pd.to_numeric(CP_all_df['Volume'], errors='coerce')\n",
        "CP_all_df['Volume']=CP_all_df['Volume'].astype(float)\n",
        "CP_all_df['Volume']=CP_all_df['Volume']*6.28981\n",
        "print(CP_all_df['Volume'].describe())\n",
        "print(CP_all_df.info())\n",
        "#removing negative values\n",
        "CP_all_df = CP_all_df[CP_all_df['Volume'] >= 0]\n",
        "\n",
        "#Locate top 10 wells\n",
        "top_10_CP = CP_all_df[(CP_all_df['ProductID']=='OIL')&(CP_all_df['ActivityID']=='PROD')]\n",
        "top_10_CP = top_10_CP.groupby(['FromToID'])['Volume'].sum()\n",
        "top_10_CP = top_10_CP.sort_values(ascending=False)\n",
        "top_10_CP = top_10_CP.head(10)\n",
        "print(top_10_CP)"
      ]
    },
    {
      "cell_type": "code",
      "execution_count": 30,
      "metadata": {
        "colab": {
          "base_uri": "https://localhost:8080/"
        },
        "id": "vPxscPvZmq5d",
        "outputId": "ac553b9d-090f-401f-9e5e-b026ce5e200b"
      },
      "outputs": [
        {
          "name": "stdout",
          "output_type": "stream",
          "text": [
            "['PROD']\n",
            "['GAS' 'OIL' 'WATER']\n",
            "['PROD']\n",
            "['GAS' 'OIL' 'WATER']\n",
            "['PROD']\n",
            "['GAS' 'OIL' 'WATER']\n",
            "['PROD']\n",
            "['GAS' 'OIL' 'WATER']\n",
            "['PROD']\n",
            "['GAS' 'OIL' 'WATER']\n",
            "['PROD']\n",
            "['GAS' 'OIL' 'WATER']\n",
            "['PROD']\n",
            "['GAS' 'OIL' 'WATER']\n",
            "['PROD']\n",
            "['GAS' 'OIL' 'WATER']\n",
            "['PROD']\n",
            "['GAS' 'OIL' 'WATER']\n",
            "['PROD']\n",
            "['GAS' 'OIL' 'WATER']\n"
          ]
        }
      ],
      "source": [
        "for well in top_10_CP.index:\n",
        "  well_prods_act(CP_all_df,well)"
      ]
    },
    {
      "cell_type": "code",
      "execution_count": 31,
      "metadata": {
        "colab": {
          "base_uri": "https://localhost:8080/"
        },
        "id": "cdLDlzeJm2ax",
        "outputId": "fec42295-a4e6-4ea1-8cbf-42fc072bdd41"
      },
      "outputs": [
        {
          "name": "stdout",
          "output_type": "stream",
          "text": [
            "[72.46211024945693, 69.38374066885163, 77.02184735395177, 74.14431789993604, 69.97325902786942, 70.97107394328934, 71.99482371275984, 71.05540504126081, 69.29464138683244, 76.25516085751788]\n"
          ]
        }
      ],
      "source": [
        "CP_watercut=[]\n",
        "for well in top_10_CP.index:\n",
        "  CP_watercut.append(Water_cut(CP_all_df,well)[1])\n",
        "\n",
        "print(CP_watercut)"
      ]
    },
    {
      "cell_type": "markdown",
      "metadata": {
        "id": "1a8gcMgrnwR5"
      },
      "source": [
        "Conocophilips top wells suggest a very high value of watercut content compared to the other 4 companies. Let's compare them all in a boxplot"
      ]
    },
    {
      "cell_type": "code",
      "execution_count": 39,
      "metadata": {
        "colab": {
          "base_uri": "https://localhost:8080/"
        },
        "id": "0H-k3WT6oHVk",
        "outputId": "a2824399-6fc7-41ac-8fb3-214996667b65"
      },
      "outputs": [
        {
          "name": "stdout",
          "output_type": "stream",
          "text": [
            "<class 'pandas.core.frame.DataFrame'>\n",
            "RangeIndex: 517 entries, 0 to 516\n",
            "Data columns (total 4 columns):\n",
            " #   Column           Non-Null Count  Dtype         \n",
            "---  ------           --------------  -----         \n",
            " 0   ProductionMonth  517 non-null    datetime64[ns]\n",
            " 1   Water_Cut (%)    517 non-null    float64       \n",
            " 2   wellID           517 non-null    object        \n",
            " 3   Operator         517 non-null    object        \n",
            "dtypes: datetime64[ns](1), float64(1), object(2)\n",
            "memory usage: 16.3+ KB\n",
            "None\n"
          ]
        }
      ],
      "source": [
        "Cenovus_watercut_date=pd.DataFrame()\n",
        "for well in top_10_Cenovus.index:\n",
        "  new_WC = Water_cut(Cenovus_all_df,well)[0]  # Get the DataFrame from the function\n",
        "  Cenovus_watercut_date = pd.concat([Cenovus_watercut_date, new_WC], ignore_index=True)  # Append the DataFrame to the list\n",
        "\n",
        "Cenovus_watercut_date['Operator'] = 'Cenovus'\n",
        "\n",
        "CNRL_watercut_date=pd.DataFrame()\n",
        "for well in top_10_CNRL.index:\n",
        "  new_WC = Water_cut(CNRL_all_df,well)[0]  # Get the DataFrame from the function\n",
        "  CNRL_watercut_date = pd.concat([CNRL_watercut_date, new_WC], ignore_index=True)  # Append the DataFrame to the list\n",
        "\n",
        "CNRL_watercut_date['Operator'] = 'Canadian Natural'\n",
        "\n",
        "SUNCOR_watercut_date=pd.DataFrame()\n",
        "for well in top_10_SUNCOR.index:\n",
        "  new_WC = Water_cut(SUNCOR_all_df,well)[0]  # Get the DataFrame from the function\n",
        "  SUNCOR_watercut_date = pd.concat([SUNCOR_watercut_date, new_WC], ignore_index=True)  # Append the DataFrame to the list\n",
        "\n",
        "SUNCOR_watercut_date['Operator'] = 'Suncor'\n",
        "\n",
        "IORL_watercut_date=pd.DataFrame()\n",
        "for well in top_10_IORL.index:\n",
        "  new_WC = Water_cut(IORL_all_df,well)[0]  # Get the DataFrame from the function\n",
        "  IORL_watercut_date = pd.concat([IORL_watercut_date, new_WC], ignore_index=True)  # Append the DataFrame to the list\n",
        "\n",
        "IORL_watercut_date['Operator'] = 'Imperial Oil'\n",
        "\n",
        "CP_watercut_date=pd.DataFrame()\n",
        "for well in top_10_CP.index:\n",
        "  new_WC = Water_cut(CP_all_df,well)[0]  # Get the DataFrame from the function\n",
        "  CP_watercut_date = pd.concat([CP_watercut_date, new_WC], ignore_index=True)  # Append the DataFrame to the list\n",
        "\n",
        "CP_watercut_date['Operator'] = 'ConocoPhillips'\n",
        "\n",
        "top_10_all=pd.concat([Cenovus_watercut_date,CNRL_watercut_date,SUNCOR_watercut_date,IORL_watercut_date,CP_watercut_date],ignore_index=True)\n",
        "print(top_10_all.info())"
      ]
    },
    {
      "cell_type": "code",
      "execution_count": 40,
      "metadata": {
        "colab": {
          "base_uri": "https://localhost:8080/",
          "height": 533
        },
        "id": "nK-F9BJGofH3",
        "outputId": "1226e910-cd33-4086-f14a-521d7ddeacd0"
      },
      "outputs": [
        {
          "data": {
            "image/png": "[encoded data removed]",
            "text/plain": [
              "<Figure size 640x480 with 1 Axes>"
            ]
          },
          "metadata": {},
          "output_type": "display_data"
        }
      ],
      "source": [
        "sns.boxplot(data=top_10_all,x='Operator',y='Water_Cut (%)')\n",
        "plt.xticks(rotation=90,fontsize=8)\n",
        "plt.ylabel('Water_Cut (%)')\n",
        "plt.xlabel('Company Name')\n",
        "plt.show()"
      ]
    },
    {
      "cell_type": "markdown",
      "metadata": {
        "id": "DEycOO8mZnX3"
      },
      "source": [
        "Summary of findings:\n",
        "\n",
        "1. Most of the top 10 wells of the top 5 companies have a similar watercut content, over 65%. This suggests that the wells are not efficient overall and they all need to spend additional resources to treat the oil.\n",
        "\n",
        "2. Suncor is the company with most efficient wells. Imperial Oil has a similar performance, but with high variance.\n",
        "\n",
        "3. CNRL has some wells with extreme inneficiencies, with around 90%. Those wells, although with peak performance, should be investigated.\n",
        "\n",
        "4. CNRL is the only company among the top 5 that does not recover the load fluid. It is proposed to do some additional research to improve the efficiency of the activity.\n",
        "\n",
        "5. There does not seem to be any additional undesired byproduct in any of these wells."
      ]
    },
    {
      "cell_type": "code",
      "execution_count": 1,
      "metadata": {
        "id": "DosexlPXZpD7"
      },
      "outputs": [],
      "source": [
        "#This is a test "
      ]
    },
    {
      "cell_type": "markdown",
      "metadata": {},
      "source": [
        "Testing of git commands"
      ]
    },
    {
      "cell_type": "code",
      "execution_count": null,
      "metadata": {},
      "outputs": [],
      "source": []
    }
  ],
  "metadata": {
    "colab": {
      "provenance": []
    },
    "kernelspec": {
      "display_name": "Python 3",
      "name": "python3"
    },
    "language_info": {
      "codemirror_mode": {
        "name": "ipython",
        "version": 3
      },
      "file_extension": ".py",
      "mimetype": "text/x-python",
      "name": "python",
      "nbconvert_exporter": "python",
      "pygments_lexer": "ipython3",
      "version": "3.11.9"
    }
  },
  "nbformat": 4,
  "nbformat_minor": 0
}
